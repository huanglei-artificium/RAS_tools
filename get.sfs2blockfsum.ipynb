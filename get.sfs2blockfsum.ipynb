{
 "cells": [
  {
   "cell_type": "code",
   "execution_count": 1,
   "metadata": {
    "vscode": {
     "languageId": "r"
    }
   },
   "outputs": [
    {
     "name": "stderr",
     "output_type": "stream",
     "text": [
      "── \u001b[1mAttaching core tidyverse packages\u001b[22m ──────────────────────── tidyverse 2.0.0 ──\n",
      "\u001b[32m✔\u001b[39m \u001b[34mdplyr    \u001b[39m 1.1.0     \u001b[32m✔\u001b[39m \u001b[34mreadr    \u001b[39m 2.1.4\n",
      "\u001b[32m✔\u001b[39m \u001b[34mforcats  \u001b[39m 1.0.0     \u001b[32m✔\u001b[39m \u001b[34mstringr  \u001b[39m 1.5.0\n",
      "\u001b[32m✔\u001b[39m \u001b[34mggplot2  \u001b[39m 3.4.0     \u001b[32m✔\u001b[39m \u001b[34mtibble   \u001b[39m 3.2.1\n",
      "\u001b[32m✔\u001b[39m \u001b[34mlubridate\u001b[39m 1.9.2     \u001b[32m✔\u001b[39m \u001b[34mtidyr    \u001b[39m 1.3.0\n",
      "\u001b[32m✔\u001b[39m \u001b[34mpurrr    \u001b[39m 1.0.2     \n",
      "── \u001b[1mConflicts\u001b[22m ────────────────────────────────────────── tidyverse_conflicts() ──\n",
      "\u001b[31m✖\u001b[39m \u001b[34mdplyr\u001b[39m::\u001b[32mfilter()\u001b[39m masks \u001b[34mstats\u001b[39m::filter()\n",
      "\u001b[31m✖\u001b[39m \u001b[34mdplyr\u001b[39m::\u001b[32mlag()\u001b[39m    masks \u001b[34mstats\u001b[39m::lag()\n",
      "\u001b[36mℹ\u001b[39m Use the conflicted package (\u001b[3m\u001b[34m<http://conflicted.r-lib.org/>\u001b[39m\u001b[23m) to force all conflicts to become errors\n"
     ]
    }
   ],
   "source": [
    "library(tidyverse)"
   ]
  },
  {
   "cell_type": "code",
   "execution_count": 2,
   "metadata": {
    "vscode": {
     "languageId": "r"
    }
   },
   "outputs": [],
   "source": [
    "position_file <- NA #\"/mnt/archgen/public_data/HGDP+1KG_callset/stats/POS.all_filtered.AFR_mono.5EUR/PS.HGDP+1000G.EUR_asc_min258.txt\"\n",
    "\n",
    "frequency_files_list <- \"example/frequency_files_list.txt\"\n",
    "# allowed non-frequency columns: CHR; POS; ALT; REF\n",
    "\n",
    "pop_def_file <- \"example/pop_def.txt\"\n",
    "\n",
    "n_pops <- 3\n",
    "\n",
    "popA_str <- \"AFR_all\"\n",
    "# (1) directory to a text file, in which each row consists of one population\n",
    "# (2) string separated by comma \",\"\n",
    "\n",
    "popA_fillna <- NA # if it's an outgroup, it can only support NA\n",
    "# (1) NA\n",
    "# (2) HomoRef\n",
    "# (3) Outgroup\n",
    "\n",
    "popB_str <- \"CEU,FIN,GBR,IBS,TSI\"\n",
    "\n",
    "popB_fillna <- \"Outgroup\"\n",
    "\n",
    "popC_str <- \"example/popC.txt\"\n",
    "\n",
    "popC_fillna <- NA\n",
    "\n",
    "popD_str <- NA\n",
    "\n",
    "popD_fillna <- NA\n",
    "\n",
    "jackknife <- \"CHR\"\n",
    "\n",
    "asc_refpop <- \"EUR5\"\n",
    "# Whether it's ascertained depends on ascertainment file\n",
    "\n",
    "refpop_max_miss <- 0.75\n",
    "\n",
    "refpop_remove_homo <- TRUE\n",
    "\n",
    "asc_outgroup <- \"AFR_all\"\n",
    "# Outgroup only applies when ascertainment is defined.\n",
    "\n",
    "outgroup_max_hetero <- 0\n",
    "\n",
    "outgroup_round_freq <- FALSE\n",
    "# use the rounded frequency (0/1) when outgroup is involved in F-stats\n"
   ]
  },
  {
   "cell_type": "code",
   "execution_count": 3,
   "metadata": {
    "vscode": {
     "languageId": "r"
    }
   },
   "outputs": [],
   "source": [
    "get_frequency_file_info <- function(frequency_file, header_info = NA)\n",
    "{\n",
    "    is_geno <- tools::file_ext(frequency_file) == \"geno\"\n",
    "    if (is.na(header_info))\n",
    "        header_info <- paste0(tools::file_path_sans_ext(frequency_file), if (is_geno) \".ind\" else \".header\")\n",
    "    \n",
    "    header <- ( if (file.exists(header_info)) utils::read.table(header_info, header = FALSE, sep = \"\\t\")[[1]] else base::strsplit(header_info, \",\")[[1]] ) %>% base::strsplit(split=\"[()]\")\n",
    "    return(data.frame(frequency_file = frequency_file, field = 1:base::length(header), column_name = sapply(header, `[`, 1), denominator = if (is_geno) 2 else as.numeric(sapply(header, `[`, 2))))\n",
    "}"
   ]
  },
  {
   "cell_type": "code",
   "execution_count": 4,
   "metadata": {
    "vscode": {
     "languageId": "r"
    }
   },
   "outputs": [],
   "source": [
    "if (!file.exists(frequency_files_list))\n",
    "{\n",
    "    message(\"Frequency files list\", frequency_files_list, \"does not exist.\")\n",
    "    stop()\n",
    "}\n",
    "frequency_files <- utils::read.table(frequency_files_list, header = FALSE, sep = \"\\t\", col.names = c(\"frequency_file\", \"header_info\"), fill = TRUE, na.strings = c(\"NA\", \"\"))\n",
    "frequency_files_info <- purrr::pmap(frequency_files, get_frequency_file_info) %>% do.call(base::rbind, .)\n",
    "\n",
    "column_names_duplicated <- frequency_files_info$column_name %>% .[base::duplicated(.)] %>% base::unique()\n",
    "if (base::length(column_names_duplicated))\n",
    "{\n",
    "    message(\"The following column(s) in frequency file(s) is/are duplicated: \", base::paste(column_names_duplicated, collapse=\", \"), \".\")\n",
    "    stop()\n",
    "}\n",
    "\n",
    "pop_names_all <- frequency_files_info$column_name %>% .[! . %in% c(\"CHR\", \"POS\", \"ALT\", \"REF\")] %>% base::strsplit(split=\"~\") %>% base::sapply(`[`, 1) %>% base::unique()"
   ]
  },
  {
   "cell_type": "code",
   "execution_count": 5,
   "metadata": {
    "vscode": {
     "languageId": "r"
    }
   },
   "outputs": [],
   "source": [
    "pop_info <- list()\n",
    "columns_selected <- c()\n",
    "\n",
    "for (pop in pop_names_all)\n",
    "{\n",
    "    frac2_name <- paste0(pop, c(\"~num\", \"~deno\"))\n",
    "    if (all(frac2_name %in% frequency_files_info$column_name))\n",
    "    {\n",
    "        deno <- frequency_files_info %>% dplyr::filter(column_name %in% frac2_name) %>% .$denominator %>% base::unique()\n",
    "        if (base::length(deno) > 1)\n",
    "        {\n",
    "            message(\"Population \", pop, \" doesn't have the same total count in its numerator and denominator.\")\n",
    "            next\n",
    "        }\n",
    "        if (is.na(deno))\n",
    "        {\n",
    "            message(\"Population \", pop, \" doesn't have the total count in its numerator or denominator.\")\n",
    "            next\n",
    "        }\n",
    "        pop_info[[pop]] <- list(data_type = \"frac2\", total = deno, lth = NA)\n",
    "        columns_selected <- columns_selected %>% append(frac2_name)\n",
    "        next\n",
    "    }\n",
    "    \n",
    "    if (pop %in% frequency_files_info$column_name)\n",
    "    {\n",
    "        #\n",
    "        deno <- frequency_files_info %>% dplyr::filter(column_name == pop) %>% .$denominator\n",
    "        pop_info[[pop]] <- if (is.na(deno) || deno == 1) list(data_type = \"freq\", total = 1, lth = NA) else list(data_type = \"frac1\", total = deno, lth = NA)\n",
    "        columns_selected <- columns_selected %>% append(pop)\n",
    "        next\n",
    "    }\n",
    "\n",
    "    message(\"Population \", pop, \" doesn't apply either fraction or frequency format.\")\n",
    "}\n",
    "\n",
    "frequency_files_info_filtered <- frequency_files_info %>% filter(column_name %in% c(\"CHR\", \"POS\", \"ALT\", \"REF\", columns_selected))"
   ]
  },
  {
   "cell_type": "code",
   "execution_count": 6,
   "metadata": {
    "vscode": {
     "languageId": "r"
    }
   },
   "outputs": [
    {
     "data": {
      "text/html": [
       "<table class=\"dataframe\">\n",
       "<caption>A data.frame: 30 × 4</caption>\n",
       "<thead>\n",
       "\t<tr><th scope=col>frequency_file</th><th scope=col>field</th><th scope=col>column_name</th><th scope=col>denominator</th></tr>\n",
       "\t<tr><th scope=col>&lt;chr&gt;</th><th scope=col>&lt;int&gt;</th><th scope=col>&lt;chr&gt;</th><th scope=col>&lt;dbl&gt;</th></tr>\n",
       "</thead>\n",
       "<tbody>\n",
       "\t<tr><td>/mnt/archgen/public_data/HGDP+1KG_callset/stats/POS.all_filtered/PS.HGDP+1000G.txt                                         </td><td> 1</td><td>CHR              </td><td> NA</td></tr>\n",
       "\t<tr><td>/mnt/archgen/public_data/HGDP+1KG_callset/stats/POS.all_filtered/PS.HGDP+1000G.txt                                         </td><td> 2</td><td>POS              </td><td> NA</td></tr>\n",
       "\t<tr><td>/mnt/archgen/public_data/HGDP+1KG_callset/stats/POS.all_filtered/count/AFR_all.freq.txt                                    </td><td> 1</td><td>AFR_all          </td><td>  1</td></tr>\n",
       "\t<tr><td>/mnt/archgen/public_data/HGDP+1KG_callset/stats/POS.all_filtered/count/CEU_norelated.frac.txt                              </td><td> 1</td><td>CEU~num          </td><td>242</td></tr>\n",
       "\t<tr><td>/mnt/archgen/public_data/HGDP+1KG_callset/stats/POS.all_filtered/count/CEU_norelated.frac.txt                              </td><td> 2</td><td>CEU~deno         </td><td>242</td></tr>\n",
       "\t<tr><td>/mnt/archgen/public_data/HGDP+1KG_callset/stats/POS.all_filtered/count/FIN_norelated.frac.txt                              </td><td> 1</td><td>FIN~num          </td><td>196</td></tr>\n",
       "\t<tr><td>/mnt/archgen/public_data/HGDP+1KG_callset/stats/POS.all_filtered/count/FIN_norelated.frac.txt                              </td><td> 2</td><td>FIN~deno         </td><td>196</td></tr>\n",
       "\t<tr><td>/mnt/archgen/public_data/HGDP+1KG_callset/stats/POS.all_filtered/count/GBR_norelated.frac.txt                              </td><td> 1</td><td>GBR~num          </td><td>176</td></tr>\n",
       "\t<tr><td>/mnt/archgen/public_data/HGDP+1KG_callset/stats/POS.all_filtered/count/GBR_norelated.frac.txt                              </td><td> 2</td><td>GBR~deno         </td><td>176</td></tr>\n",
       "\t<tr><td>/mnt/archgen/public_data/HGDP+1KG_callset/stats/POS.all_filtered/count/IBS_norelated.frac.txt                              </td><td> 1</td><td>IBS~num          </td><td>208</td></tr>\n",
       "\t<tr><td>/mnt/archgen/public_data/HGDP+1KG_callset/stats/POS.all_filtered/count/IBS_norelated.frac.txt                              </td><td> 2</td><td>IBS~deno         </td><td>208</td></tr>\n",
       "\t<tr><td>/mnt/archgen/public_data/HGDP+1KG_callset/stats/POS.all_filtered/count/TSI_norelated.frac.txt                              </td><td> 1</td><td>TSI~num          </td><td>206</td></tr>\n",
       "\t<tr><td>/mnt/archgen/public_data/HGDP+1KG_callset/stats/POS.all_filtered/count/TSI_norelated.frac.txt                              </td><td> 2</td><td>TSI~deno         </td><td>206</td></tr>\n",
       "\t<tr><td>/mnt/archgen/public_data/HGDP+1KG_callset/stats/POS.all_filtered/EIGENSTRAT_poseidon/Adygei_norelated/Adygei_norelated.geno</td><td> 1</td><td>HGDP01381        </td><td>  2</td></tr>\n",
       "\t<tr><td>/mnt/archgen/public_data/HGDP+1KG_callset/stats/POS.all_filtered/EIGENSTRAT_poseidon/Adygei_norelated/Adygei_norelated.geno</td><td> 2</td><td>HGDP01382        </td><td>  2</td></tr>\n",
       "\t<tr><td>/mnt/archgen/public_data/HGDP+1KG_callset/stats/POS.all_filtered/EIGENSTRAT_poseidon/Adygei_norelated/Adygei_norelated.geno</td><td> 3</td><td>HGDP01383        </td><td>  2</td></tr>\n",
       "\t<tr><td>/mnt/archgen/public_data/HGDP+1KG_callset/stats/POS.all_filtered/EIGENSTRAT_poseidon/Adygei_norelated/Adygei_norelated.geno</td><td> 4</td><td>HGDP01384        </td><td>  2</td></tr>\n",
       "\t<tr><td>/mnt/archgen/public_data/HGDP+1KG_callset/stats/POS.all_filtered/EIGENSTRAT_poseidon/Adygei_norelated/Adygei_norelated.geno</td><td> 5</td><td>HGDP01385        </td><td>  2</td></tr>\n",
       "\t<tr><td>/mnt/archgen/public_data/HGDP+1KG_callset/stats/POS.all_filtered/EIGENSTRAT_poseidon/Adygei_norelated/Adygei_norelated.geno</td><td> 6</td><td>HGDP01386        </td><td>  2</td></tr>\n",
       "\t<tr><td>/mnt/archgen/public_data/HGDP+1KG_callset/stats/POS.all_filtered/EIGENSTRAT_poseidon/Adygei_norelated/Adygei_norelated.geno</td><td> 7</td><td>HGDP01387        </td><td>  2</td></tr>\n",
       "\t<tr><td>/mnt/archgen/public_data/HGDP+1KG_callset/stats/POS.all_filtered/EIGENSTRAT_poseidon/Adygei_norelated/Adygei_norelated.geno</td><td> 8</td><td>HGDP01388        </td><td>  2</td></tr>\n",
       "\t<tr><td>/mnt/archgen/public_data/HGDP+1KG_callset/stats/POS.all_filtered/EIGENSTRAT_poseidon/Adygei_norelated/Adygei_norelated.geno</td><td> 9</td><td>HGDP01396        </td><td>  2</td></tr>\n",
       "\t<tr><td>/mnt/archgen/public_data/HGDP+1KG_callset/stats/POS.all_filtered/EIGENSTRAT_poseidon/Adygei_norelated/Adygei_norelated.geno</td><td>10</td><td>HGDP01397        </td><td>  2</td></tr>\n",
       "\t<tr><td>/mnt/archgen/public_data/HGDP+1KG_callset/stats/POS.all_filtered/EIGENSTRAT_poseidon/Adygei_norelated/Adygei_norelated.geno</td><td>11</td><td>HGDP01398        </td><td>  2</td></tr>\n",
       "\t<tr><td>/mnt/archgen/public_data/HGDP+1KG_callset/stats/POS.all_filtered/EIGENSTRAT_poseidon/Adygei_norelated/Adygei_norelated.geno</td><td>12</td><td>HGDP01399        </td><td>  2</td></tr>\n",
       "\t<tr><td>/mnt/archgen/public_data/HGDP+1KG_callset/stats/POS.all_filtered/EIGENSTRAT_poseidon/Adygei_norelated/Adygei_norelated.geno</td><td>13</td><td>HGDP01400        </td><td>  2</td></tr>\n",
       "\t<tr><td>/mnt/archgen/public_data/HGDP+1KG_callset/stats/POS.all_filtered/EIGENSTRAT_poseidon/Adygei_norelated/Adygei_norelated.geno</td><td>14</td><td>HGDP01403        </td><td>  2</td></tr>\n",
       "\t<tr><td>/mnt/archgen/public_data/HGDP+1KG_callset/stats/POS.all_filtered/EIGENSTRAT_poseidon/Adygei_norelated/Adygei_norelated.geno</td><td>15</td><td>HGDP01404        </td><td>  2</td></tr>\n",
       "\t<tr><td>/mnt/archgen/public_data/HGDP+1KG_callset/stats/POS.all_filtered/EIGENSTRAT_poseidon/Adygei_norelated/Adygei_norelated.geno</td><td>16</td><td>LP6005441-DNA_A01</td><td>  2</td></tr>\n",
       "\t<tr><td>/mnt/archgen/public_data/HGDP+1KG_callset/stats/POS.all_filtered/EIGENSTRAT_poseidon/Adygei_norelated/Adygei_norelated.geno</td><td>17</td><td>LP6005441-DNA_B01</td><td>  2</td></tr>\n",
       "</tbody>\n",
       "</table>\n"
      ],
      "text/latex": [
       "A data.frame: 30 × 4\n",
       "\\begin{tabular}{llll}\n",
       " frequency\\_file & field & column\\_name & denominator\\\\\n",
       " <chr> & <int> & <chr> & <dbl>\\\\\n",
       "\\hline\n",
       "\t /mnt/archgen/public\\_data/HGDP+1KG\\_callset/stats/POS.all\\_filtered/PS.HGDP+1000G.txt                                          &  1 & CHR               &  NA\\\\\n",
       "\t /mnt/archgen/public\\_data/HGDP+1KG\\_callset/stats/POS.all\\_filtered/PS.HGDP+1000G.txt                                          &  2 & POS               &  NA\\\\\n",
       "\t /mnt/archgen/public\\_data/HGDP+1KG\\_callset/stats/POS.all\\_filtered/count/AFR\\_all.freq.txt                                     &  1 & AFR\\_all           &   1\\\\\n",
       "\t /mnt/archgen/public\\_data/HGDP+1KG\\_callset/stats/POS.all\\_filtered/count/CEU\\_norelated.frac.txt                               &  1 & CEU\\textasciitilde{}num           & 242\\\\\n",
       "\t /mnt/archgen/public\\_data/HGDP+1KG\\_callset/stats/POS.all\\_filtered/count/CEU\\_norelated.frac.txt                               &  2 & CEU\\textasciitilde{}deno          & 242\\\\\n",
       "\t /mnt/archgen/public\\_data/HGDP+1KG\\_callset/stats/POS.all\\_filtered/count/FIN\\_norelated.frac.txt                               &  1 & FIN\\textasciitilde{}num           & 196\\\\\n",
       "\t /mnt/archgen/public\\_data/HGDP+1KG\\_callset/stats/POS.all\\_filtered/count/FIN\\_norelated.frac.txt                               &  2 & FIN\\textasciitilde{}deno          & 196\\\\\n",
       "\t /mnt/archgen/public\\_data/HGDP+1KG\\_callset/stats/POS.all\\_filtered/count/GBR\\_norelated.frac.txt                               &  1 & GBR\\textasciitilde{}num           & 176\\\\\n",
       "\t /mnt/archgen/public\\_data/HGDP+1KG\\_callset/stats/POS.all\\_filtered/count/GBR\\_norelated.frac.txt                               &  2 & GBR\\textasciitilde{}deno          & 176\\\\\n",
       "\t /mnt/archgen/public\\_data/HGDP+1KG\\_callset/stats/POS.all\\_filtered/count/IBS\\_norelated.frac.txt                               &  1 & IBS\\textasciitilde{}num           & 208\\\\\n",
       "\t /mnt/archgen/public\\_data/HGDP+1KG\\_callset/stats/POS.all\\_filtered/count/IBS\\_norelated.frac.txt                               &  2 & IBS\\textasciitilde{}deno          & 208\\\\\n",
       "\t /mnt/archgen/public\\_data/HGDP+1KG\\_callset/stats/POS.all\\_filtered/count/TSI\\_norelated.frac.txt                               &  1 & TSI\\textasciitilde{}num           & 206\\\\\n",
       "\t /mnt/archgen/public\\_data/HGDP+1KG\\_callset/stats/POS.all\\_filtered/count/TSI\\_norelated.frac.txt                               &  2 & TSI\\textasciitilde{}deno          & 206\\\\\n",
       "\t /mnt/archgen/public\\_data/HGDP+1KG\\_callset/stats/POS.all\\_filtered/EIGENSTRAT\\_poseidon/Adygei\\_norelated/Adygei\\_norelated.geno &  1 & HGDP01381         &   2\\\\\n",
       "\t /mnt/archgen/public\\_data/HGDP+1KG\\_callset/stats/POS.all\\_filtered/EIGENSTRAT\\_poseidon/Adygei\\_norelated/Adygei\\_norelated.geno &  2 & HGDP01382         &   2\\\\\n",
       "\t /mnt/archgen/public\\_data/HGDP+1KG\\_callset/stats/POS.all\\_filtered/EIGENSTRAT\\_poseidon/Adygei\\_norelated/Adygei\\_norelated.geno &  3 & HGDP01383         &   2\\\\\n",
       "\t /mnt/archgen/public\\_data/HGDP+1KG\\_callset/stats/POS.all\\_filtered/EIGENSTRAT\\_poseidon/Adygei\\_norelated/Adygei\\_norelated.geno &  4 & HGDP01384         &   2\\\\\n",
       "\t /mnt/archgen/public\\_data/HGDP+1KG\\_callset/stats/POS.all\\_filtered/EIGENSTRAT\\_poseidon/Adygei\\_norelated/Adygei\\_norelated.geno &  5 & HGDP01385         &   2\\\\\n",
       "\t /mnt/archgen/public\\_data/HGDP+1KG\\_callset/stats/POS.all\\_filtered/EIGENSTRAT\\_poseidon/Adygei\\_norelated/Adygei\\_norelated.geno &  6 & HGDP01386         &   2\\\\\n",
       "\t /mnt/archgen/public\\_data/HGDP+1KG\\_callset/stats/POS.all\\_filtered/EIGENSTRAT\\_poseidon/Adygei\\_norelated/Adygei\\_norelated.geno &  7 & HGDP01387         &   2\\\\\n",
       "\t /mnt/archgen/public\\_data/HGDP+1KG\\_callset/stats/POS.all\\_filtered/EIGENSTRAT\\_poseidon/Adygei\\_norelated/Adygei\\_norelated.geno &  8 & HGDP01388         &   2\\\\\n",
       "\t /mnt/archgen/public\\_data/HGDP+1KG\\_callset/stats/POS.all\\_filtered/EIGENSTRAT\\_poseidon/Adygei\\_norelated/Adygei\\_norelated.geno &  9 & HGDP01396         &   2\\\\\n",
       "\t /mnt/archgen/public\\_data/HGDP+1KG\\_callset/stats/POS.all\\_filtered/EIGENSTRAT\\_poseidon/Adygei\\_norelated/Adygei\\_norelated.geno & 10 & HGDP01397         &   2\\\\\n",
       "\t /mnt/archgen/public\\_data/HGDP+1KG\\_callset/stats/POS.all\\_filtered/EIGENSTRAT\\_poseidon/Adygei\\_norelated/Adygei\\_norelated.geno & 11 & HGDP01398         &   2\\\\\n",
       "\t /mnt/archgen/public\\_data/HGDP+1KG\\_callset/stats/POS.all\\_filtered/EIGENSTRAT\\_poseidon/Adygei\\_norelated/Adygei\\_norelated.geno & 12 & HGDP01399         &   2\\\\\n",
       "\t /mnt/archgen/public\\_data/HGDP+1KG\\_callset/stats/POS.all\\_filtered/EIGENSTRAT\\_poseidon/Adygei\\_norelated/Adygei\\_norelated.geno & 13 & HGDP01400         &   2\\\\\n",
       "\t /mnt/archgen/public\\_data/HGDP+1KG\\_callset/stats/POS.all\\_filtered/EIGENSTRAT\\_poseidon/Adygei\\_norelated/Adygei\\_norelated.geno & 14 & HGDP01403         &   2\\\\\n",
       "\t /mnt/archgen/public\\_data/HGDP+1KG\\_callset/stats/POS.all\\_filtered/EIGENSTRAT\\_poseidon/Adygei\\_norelated/Adygei\\_norelated.geno & 15 & HGDP01404         &   2\\\\\n",
       "\t /mnt/archgen/public\\_data/HGDP+1KG\\_callset/stats/POS.all\\_filtered/EIGENSTRAT\\_poseidon/Adygei\\_norelated/Adygei\\_norelated.geno & 16 & LP6005441-DNA\\_A01 &   2\\\\\n",
       "\t /mnt/archgen/public\\_data/HGDP+1KG\\_callset/stats/POS.all\\_filtered/EIGENSTRAT\\_poseidon/Adygei\\_norelated/Adygei\\_norelated.geno & 17 & LP6005441-DNA\\_B01 &   2\\\\\n",
       "\\end{tabular}\n"
      ],
      "text/markdown": [
       "\n",
       "A data.frame: 30 × 4\n",
       "\n",
       "| frequency_file &lt;chr&gt; | field &lt;int&gt; | column_name &lt;chr&gt; | denominator &lt;dbl&gt; |\n",
       "|---|---|---|---|\n",
       "| /mnt/archgen/public_data/HGDP+1KG_callset/stats/POS.all_filtered/PS.HGDP+1000G.txt                                          |  1 | CHR               |  NA |\n",
       "| /mnt/archgen/public_data/HGDP+1KG_callset/stats/POS.all_filtered/PS.HGDP+1000G.txt                                          |  2 | POS               |  NA |\n",
       "| /mnt/archgen/public_data/HGDP+1KG_callset/stats/POS.all_filtered/count/AFR_all.freq.txt                                     |  1 | AFR_all           |   1 |\n",
       "| /mnt/archgen/public_data/HGDP+1KG_callset/stats/POS.all_filtered/count/CEU_norelated.frac.txt                               |  1 | CEU~num           | 242 |\n",
       "| /mnt/archgen/public_data/HGDP+1KG_callset/stats/POS.all_filtered/count/CEU_norelated.frac.txt                               |  2 | CEU~deno          | 242 |\n",
       "| /mnt/archgen/public_data/HGDP+1KG_callset/stats/POS.all_filtered/count/FIN_norelated.frac.txt                               |  1 | FIN~num           | 196 |\n",
       "| /mnt/archgen/public_data/HGDP+1KG_callset/stats/POS.all_filtered/count/FIN_norelated.frac.txt                               |  2 | FIN~deno          | 196 |\n",
       "| /mnt/archgen/public_data/HGDP+1KG_callset/stats/POS.all_filtered/count/GBR_norelated.frac.txt                               |  1 | GBR~num           | 176 |\n",
       "| /mnt/archgen/public_data/HGDP+1KG_callset/stats/POS.all_filtered/count/GBR_norelated.frac.txt                               |  2 | GBR~deno          | 176 |\n",
       "| /mnt/archgen/public_data/HGDP+1KG_callset/stats/POS.all_filtered/count/IBS_norelated.frac.txt                               |  1 | IBS~num           | 208 |\n",
       "| /mnt/archgen/public_data/HGDP+1KG_callset/stats/POS.all_filtered/count/IBS_norelated.frac.txt                               |  2 | IBS~deno          | 208 |\n",
       "| /mnt/archgen/public_data/HGDP+1KG_callset/stats/POS.all_filtered/count/TSI_norelated.frac.txt                               |  1 | TSI~num           | 206 |\n",
       "| /mnt/archgen/public_data/HGDP+1KG_callset/stats/POS.all_filtered/count/TSI_norelated.frac.txt                               |  2 | TSI~deno          | 206 |\n",
       "| /mnt/archgen/public_data/HGDP+1KG_callset/stats/POS.all_filtered/EIGENSTRAT_poseidon/Adygei_norelated/Adygei_norelated.geno |  1 | HGDP01381         |   2 |\n",
       "| /mnt/archgen/public_data/HGDP+1KG_callset/stats/POS.all_filtered/EIGENSTRAT_poseidon/Adygei_norelated/Adygei_norelated.geno |  2 | HGDP01382         |   2 |\n",
       "| /mnt/archgen/public_data/HGDP+1KG_callset/stats/POS.all_filtered/EIGENSTRAT_poseidon/Adygei_norelated/Adygei_norelated.geno |  3 | HGDP01383         |   2 |\n",
       "| /mnt/archgen/public_data/HGDP+1KG_callset/stats/POS.all_filtered/EIGENSTRAT_poseidon/Adygei_norelated/Adygei_norelated.geno |  4 | HGDP01384         |   2 |\n",
       "| /mnt/archgen/public_data/HGDP+1KG_callset/stats/POS.all_filtered/EIGENSTRAT_poseidon/Adygei_norelated/Adygei_norelated.geno |  5 | HGDP01385         |   2 |\n",
       "| /mnt/archgen/public_data/HGDP+1KG_callset/stats/POS.all_filtered/EIGENSTRAT_poseidon/Adygei_norelated/Adygei_norelated.geno |  6 | HGDP01386         |   2 |\n",
       "| /mnt/archgen/public_data/HGDP+1KG_callset/stats/POS.all_filtered/EIGENSTRAT_poseidon/Adygei_norelated/Adygei_norelated.geno |  7 | HGDP01387         |   2 |\n",
       "| /mnt/archgen/public_data/HGDP+1KG_callset/stats/POS.all_filtered/EIGENSTRAT_poseidon/Adygei_norelated/Adygei_norelated.geno |  8 | HGDP01388         |   2 |\n",
       "| /mnt/archgen/public_data/HGDP+1KG_callset/stats/POS.all_filtered/EIGENSTRAT_poseidon/Adygei_norelated/Adygei_norelated.geno |  9 | HGDP01396         |   2 |\n",
       "| /mnt/archgen/public_data/HGDP+1KG_callset/stats/POS.all_filtered/EIGENSTRAT_poseidon/Adygei_norelated/Adygei_norelated.geno | 10 | HGDP01397         |   2 |\n",
       "| /mnt/archgen/public_data/HGDP+1KG_callset/stats/POS.all_filtered/EIGENSTRAT_poseidon/Adygei_norelated/Adygei_norelated.geno | 11 | HGDP01398         |   2 |\n",
       "| /mnt/archgen/public_data/HGDP+1KG_callset/stats/POS.all_filtered/EIGENSTRAT_poseidon/Adygei_norelated/Adygei_norelated.geno | 12 | HGDP01399         |   2 |\n",
       "| /mnt/archgen/public_data/HGDP+1KG_callset/stats/POS.all_filtered/EIGENSTRAT_poseidon/Adygei_norelated/Adygei_norelated.geno | 13 | HGDP01400         |   2 |\n",
       "| /mnt/archgen/public_data/HGDP+1KG_callset/stats/POS.all_filtered/EIGENSTRAT_poseidon/Adygei_norelated/Adygei_norelated.geno | 14 | HGDP01403         |   2 |\n",
       "| /mnt/archgen/public_data/HGDP+1KG_callset/stats/POS.all_filtered/EIGENSTRAT_poseidon/Adygei_norelated/Adygei_norelated.geno | 15 | HGDP01404         |   2 |\n",
       "| /mnt/archgen/public_data/HGDP+1KG_callset/stats/POS.all_filtered/EIGENSTRAT_poseidon/Adygei_norelated/Adygei_norelated.geno | 16 | LP6005441-DNA_A01 |   2 |\n",
       "| /mnt/archgen/public_data/HGDP+1KG_callset/stats/POS.all_filtered/EIGENSTRAT_poseidon/Adygei_norelated/Adygei_norelated.geno | 17 | LP6005441-DNA_B01 |   2 |\n",
       "\n"
      ],
      "text/plain": [
       "   frequency_file                                                                                                             \n",
       "1  /mnt/archgen/public_data/HGDP+1KG_callset/stats/POS.all_filtered/PS.HGDP+1000G.txt                                         \n",
       "2  /mnt/archgen/public_data/HGDP+1KG_callset/stats/POS.all_filtered/PS.HGDP+1000G.txt                                         \n",
       "3  /mnt/archgen/public_data/HGDP+1KG_callset/stats/POS.all_filtered/count/AFR_all.freq.txt                                    \n",
       "4  /mnt/archgen/public_data/HGDP+1KG_callset/stats/POS.all_filtered/count/CEU_norelated.frac.txt                              \n",
       "5  /mnt/archgen/public_data/HGDP+1KG_callset/stats/POS.all_filtered/count/CEU_norelated.frac.txt                              \n",
       "6  /mnt/archgen/public_data/HGDP+1KG_callset/stats/POS.all_filtered/count/FIN_norelated.frac.txt                              \n",
       "7  /mnt/archgen/public_data/HGDP+1KG_callset/stats/POS.all_filtered/count/FIN_norelated.frac.txt                              \n",
       "8  /mnt/archgen/public_data/HGDP+1KG_callset/stats/POS.all_filtered/count/GBR_norelated.frac.txt                              \n",
       "9  /mnt/archgen/public_data/HGDP+1KG_callset/stats/POS.all_filtered/count/GBR_norelated.frac.txt                              \n",
       "10 /mnt/archgen/public_data/HGDP+1KG_callset/stats/POS.all_filtered/count/IBS_norelated.frac.txt                              \n",
       "11 /mnt/archgen/public_data/HGDP+1KG_callset/stats/POS.all_filtered/count/IBS_norelated.frac.txt                              \n",
       "12 /mnt/archgen/public_data/HGDP+1KG_callset/stats/POS.all_filtered/count/TSI_norelated.frac.txt                              \n",
       "13 /mnt/archgen/public_data/HGDP+1KG_callset/stats/POS.all_filtered/count/TSI_norelated.frac.txt                              \n",
       "14 /mnt/archgen/public_data/HGDP+1KG_callset/stats/POS.all_filtered/EIGENSTRAT_poseidon/Adygei_norelated/Adygei_norelated.geno\n",
       "15 /mnt/archgen/public_data/HGDP+1KG_callset/stats/POS.all_filtered/EIGENSTRAT_poseidon/Adygei_norelated/Adygei_norelated.geno\n",
       "16 /mnt/archgen/public_data/HGDP+1KG_callset/stats/POS.all_filtered/EIGENSTRAT_poseidon/Adygei_norelated/Adygei_norelated.geno\n",
       "17 /mnt/archgen/public_data/HGDP+1KG_callset/stats/POS.all_filtered/EIGENSTRAT_poseidon/Adygei_norelated/Adygei_norelated.geno\n",
       "18 /mnt/archgen/public_data/HGDP+1KG_callset/stats/POS.all_filtered/EIGENSTRAT_poseidon/Adygei_norelated/Adygei_norelated.geno\n",
       "19 /mnt/archgen/public_data/HGDP+1KG_callset/stats/POS.all_filtered/EIGENSTRAT_poseidon/Adygei_norelated/Adygei_norelated.geno\n",
       "20 /mnt/archgen/public_data/HGDP+1KG_callset/stats/POS.all_filtered/EIGENSTRAT_poseidon/Adygei_norelated/Adygei_norelated.geno\n",
       "21 /mnt/archgen/public_data/HGDP+1KG_callset/stats/POS.all_filtered/EIGENSTRAT_poseidon/Adygei_norelated/Adygei_norelated.geno\n",
       "22 /mnt/archgen/public_data/HGDP+1KG_callset/stats/POS.all_filtered/EIGENSTRAT_poseidon/Adygei_norelated/Adygei_norelated.geno\n",
       "23 /mnt/archgen/public_data/HGDP+1KG_callset/stats/POS.all_filtered/EIGENSTRAT_poseidon/Adygei_norelated/Adygei_norelated.geno\n",
       "24 /mnt/archgen/public_data/HGDP+1KG_callset/stats/POS.all_filtered/EIGENSTRAT_poseidon/Adygei_norelated/Adygei_norelated.geno\n",
       "25 /mnt/archgen/public_data/HGDP+1KG_callset/stats/POS.all_filtered/EIGENSTRAT_poseidon/Adygei_norelated/Adygei_norelated.geno\n",
       "26 /mnt/archgen/public_data/HGDP+1KG_callset/stats/POS.all_filtered/EIGENSTRAT_poseidon/Adygei_norelated/Adygei_norelated.geno\n",
       "27 /mnt/archgen/public_data/HGDP+1KG_callset/stats/POS.all_filtered/EIGENSTRAT_poseidon/Adygei_norelated/Adygei_norelated.geno\n",
       "28 /mnt/archgen/public_data/HGDP+1KG_callset/stats/POS.all_filtered/EIGENSTRAT_poseidon/Adygei_norelated/Adygei_norelated.geno\n",
       "29 /mnt/archgen/public_data/HGDP+1KG_callset/stats/POS.all_filtered/EIGENSTRAT_poseidon/Adygei_norelated/Adygei_norelated.geno\n",
       "30 /mnt/archgen/public_data/HGDP+1KG_callset/stats/POS.all_filtered/EIGENSTRAT_poseidon/Adygei_norelated/Adygei_norelated.geno\n",
       "   field column_name       denominator\n",
       "1   1    CHR                NA        \n",
       "2   2    POS                NA        \n",
       "3   1    AFR_all             1        \n",
       "4   1    CEU~num           242        \n",
       "5   2    CEU~deno          242        \n",
       "6   1    FIN~num           196        \n",
       "7   2    FIN~deno          196        \n",
       "8   1    GBR~num           176        \n",
       "9   2    GBR~deno          176        \n",
       "10  1    IBS~num           208        \n",
       "11  2    IBS~deno          208        \n",
       "12  1    TSI~num           206        \n",
       "13  2    TSI~deno          206        \n",
       "14  1    HGDP01381           2        \n",
       "15  2    HGDP01382           2        \n",
       "16  3    HGDP01383           2        \n",
       "17  4    HGDP01384           2        \n",
       "18  5    HGDP01385           2        \n",
       "19  6    HGDP01386           2        \n",
       "20  7    HGDP01387           2        \n",
       "21  8    HGDP01388           2        \n",
       "22  9    HGDP01396           2        \n",
       "23 10    HGDP01397           2        \n",
       "24 11    HGDP01398           2        \n",
       "25 12    HGDP01399           2        \n",
       "26 13    HGDP01400           2        \n",
       "27 14    HGDP01403           2        \n",
       "28 15    HGDP01404           2        \n",
       "29 16    LP6005441-DNA_A01   2        \n",
       "30 17    LP6005441-DNA_B01   2        "
      ]
     },
     "metadata": {},
     "output_type": "display_data"
    }
   ],
   "source": [
    "frequency_files_info_filtered"
   ]
  },
  {
   "cell_type": "code",
   "execution_count": 7,
   "metadata": {
    "vscode": {
     "languageId": "r"
    }
   },
   "outputs": [
    {
     "data": {
      "text/html": [
       "<dl>\n",
       "\t<dt>$AFR_all</dt>\n",
       "\t\t<dd><dl>\n",
       "\t<dt>$data_type</dt>\n",
       "\t\t<dd>'freq'</dd>\n",
       "\t<dt>$total</dt>\n",
       "\t\t<dd>1</dd>\n",
       "\t<dt>$lth</dt>\n",
       "\t\t<dd>&lt;NA&gt;</dd>\n",
       "</dl>\n",
       "</dd>\n",
       "\t<dt>$CEU</dt>\n",
       "\t\t<dd><dl>\n",
       "\t<dt>$data_type</dt>\n",
       "\t\t<dd>'frac2'</dd>\n",
       "\t<dt>$total</dt>\n",
       "\t\t<dd>242</dd>\n",
       "\t<dt>$lth</dt>\n",
       "\t\t<dd>&lt;NA&gt;</dd>\n",
       "</dl>\n",
       "</dd>\n",
       "\t<dt>$FIN</dt>\n",
       "\t\t<dd><dl>\n",
       "\t<dt>$data_type</dt>\n",
       "\t\t<dd>'frac2'</dd>\n",
       "\t<dt>$total</dt>\n",
       "\t\t<dd>196</dd>\n",
       "\t<dt>$lth</dt>\n",
       "\t\t<dd>&lt;NA&gt;</dd>\n",
       "</dl>\n",
       "</dd>\n",
       "</dl>\n"
      ],
      "text/latex": [
       "\\begin{description}\n",
       "\\item[\\$AFR\\_all] \\begin{description}\n",
       "\\item[\\$data\\_type] 'freq'\n",
       "\\item[\\$total] 1\n",
       "\\item[\\$lth] <NA>\n",
       "\\end{description}\n",
       "\n",
       "\\item[\\$CEU] \\begin{description}\n",
       "\\item[\\$data\\_type] 'frac2'\n",
       "\\item[\\$total] 242\n",
       "\\item[\\$lth] <NA>\n",
       "\\end{description}\n",
       "\n",
       "\\item[\\$FIN] \\begin{description}\n",
       "\\item[\\$data\\_type] 'frac2'\n",
       "\\item[\\$total] 196\n",
       "\\item[\\$lth] <NA>\n",
       "\\end{description}\n",
       "\n",
       "\\end{description}\n"
      ],
      "text/markdown": [
       "$AFR_all\n",
       ":   $data_type\n",
       ":   'freq'\n",
       "$total\n",
       ":   1\n",
       "$lth\n",
       ":   &lt;NA&gt;\n",
       "\n",
       "\n",
       "\n",
       "$CEU\n",
       ":   $data_type\n",
       ":   'frac2'\n",
       "$total\n",
       ":   242\n",
       "$lth\n",
       ":   &lt;NA&gt;\n",
       "\n",
       "\n",
       "\n",
       "$FIN\n",
       ":   $data_type\n",
       ":   'frac2'\n",
       "$total\n",
       ":   196\n",
       "$lth\n",
       ":   &lt;NA&gt;\n",
       "\n",
       "\n",
       "\n",
       "\n",
       "\n"
      ],
      "text/plain": [
       "$AFR_all\n",
       "$AFR_all$data_type\n",
       "[1] \"freq\"\n",
       "\n",
       "$AFR_all$total\n",
       "[1] 1\n",
       "\n",
       "$AFR_all$lth\n",
       "[1] NA\n",
       "\n",
       "\n",
       "$CEU\n",
       "$CEU$data_type\n",
       "[1] \"frac2\"\n",
       "\n",
       "$CEU$total\n",
       "[1] 242\n",
       "\n",
       "$CEU$lth\n",
       "[1] NA\n",
       "\n",
       "\n",
       "$FIN\n",
       "$FIN$data_type\n",
       "[1] \"frac2\"\n",
       "\n",
       "$FIN$total\n",
       "[1] 196\n",
       "\n",
       "$FIN$lth\n",
       "[1] NA\n",
       "\n"
      ]
     },
     "metadata": {},
     "output_type": "display_data"
    }
   ],
   "source": [
    "pop_info[1:3]"
   ]
  },
  {
   "cell_type": "code",
   "execution_count": 8,
   "metadata": {
    "vscode": {
     "languageId": "r"
    }
   },
   "outputs": [],
   "source": [
    "if (!is.na(pop_def_file))\n",
    "{\n",
    "    if (file.exists(pop_def_file))\n",
    "    {\n",
    "        pop_def_o <- utils::read.table(pop_def_file, header = FALSE, sep = \"\\t\")[[1]] %>% base::strsplit(split=\":\") %>% .[! lapply(., `[`, 1) %in% names(pop_info)]\n",
    "        pop_def <- pop_def_o %>% lapply(`[`, 2) %>% sapply(base::strsplit, split=\",\")\n",
    "        for (i in length(pop_def))\n",
    "            pop_def[[i]] <- pop_def[[i]] %>% .[. %in% names(pop_info)] # need to filter %in% names(pop_info)\n",
    "        names(pop_def) <- pop_def_o %>% lapply(`[`, 1)\n",
    "    } else\n",
    "    {\n",
    "        message(\"The population definition file \", pop_def_file , \" does not exist.\")\n",
    "        pop_def_file <- NA\n",
    "    }\n",
    "        \n",
    "}\n"
   ]
  },
  {
   "cell_type": "code",
   "execution_count": 9,
   "metadata": {
    "vscode": {
     "languageId": "r"
    }
   },
   "outputs": [],
   "source": [
    "pop_to_column <- function(pop)\n",
    "{\n",
    "    if (pop %in% names(pop_info))\n",
    "    {\n",
    "        data_type <- pop_info[[pop]]$data_type\n",
    "        if (data_type == \"frac2\")\n",
    "        {\n",
    "            return(paste0(pop, c(\"~num\", \"~deno\")))\n",
    "        } else\n",
    "        {\n",
    "            return(pop)\n",
    "        }\n",
    "    } else if (pop %in% names(pop_def))\n",
    "    {\n",
    "        return(pop_def[[pop]] %>% lapply(pop_to_column) %>% unlist())\n",
    "    }\n",
    "}"
   ]
  },
  {
   "cell_type": "code",
   "execution_count": 10,
   "metadata": {
    "vscode": {
     "languageId": "r"
    }
   },
   "outputs": [],
   "source": [
    "column_name_full_length <- c(asc_refpop, asc_outgroup) %>% lapply(pop_to_column) %>% unlist()"
   ]
  },
  {
   "cell_type": "code",
   "execution_count": 11,
   "metadata": {
    "vscode": {
     "languageId": "r"
    }
   },
   "outputs": [
    {
     "data": {
      "text/html": [
       "<style>\n",
       ".list-inline {list-style: none; margin:0; padding: 0}\n",
       ".list-inline>li {display: inline-block}\n",
       ".list-inline>li:not(:last-child)::after {content: \"\\00b7\"; padding: 0 .5ex}\n",
       "</style>\n",
       "<ol class=list-inline><li>'CEU~num'</li><li>'CEU~deno'</li><li>'FIN~num'</li><li>'FIN~deno'</li><li>'GBR~num'</li><li>'GBR~deno'</li><li>'IBS~num'</li><li>'IBS~deno'</li><li>'TSI~num'</li><li>'TSI~deno'</li><li>'AFR_all'</li></ol>\n"
      ],
      "text/latex": [
       "\\begin{enumerate*}\n",
       "\\item 'CEU\\textasciitilde{}num'\n",
       "\\item 'CEU\\textasciitilde{}deno'\n",
       "\\item 'FIN\\textasciitilde{}num'\n",
       "\\item 'FIN\\textasciitilde{}deno'\n",
       "\\item 'GBR\\textasciitilde{}num'\n",
       "\\item 'GBR\\textasciitilde{}deno'\n",
       "\\item 'IBS\\textasciitilde{}num'\n",
       "\\item 'IBS\\textasciitilde{}deno'\n",
       "\\item 'TSI\\textasciitilde{}num'\n",
       "\\item 'TSI\\textasciitilde{}deno'\n",
       "\\item 'AFR\\_all'\n",
       "\\end{enumerate*}\n"
      ],
      "text/markdown": [
       "1. 'CEU~num'\n",
       "2. 'CEU~deno'\n",
       "3. 'FIN~num'\n",
       "4. 'FIN~deno'\n",
       "5. 'GBR~num'\n",
       "6. 'GBR~deno'\n",
       "7. 'IBS~num'\n",
       "8. 'IBS~deno'\n",
       "9. 'TSI~num'\n",
       "10. 'TSI~deno'\n",
       "11. 'AFR_all'\n",
       "\n",
       "\n"
      ],
      "text/plain": [
       " [1] \"CEU~num\"  \"CEU~deno\" \"FIN~num\"  \"FIN~deno\" \"GBR~num\"  \"GBR~deno\"\n",
       " [7] \"IBS~num\"  \"IBS~deno\" \"TSI~num\"  \"TSI~deno\" \"AFR_all\" "
      ]
     },
     "metadata": {},
     "output_type": "display_data"
    }
   ],
   "source": [
    "column_name_full_length"
   ]
  },
  {
   "cell_type": "code",
   "execution_count": 12,
   "metadata": {
    "vscode": {
     "languageId": "r"
    }
   },
   "outputs": [],
   "source": [
    "pop_to_freq <- function(pop_all, mask = NA)\n",
    "{\n",
    "    pop_all_file_info <- frequency_files_info_filtered %>% dplyr::filter(column_name %in% pop_all)\n",
    "\n",
    "    file_all <- pop_all_file_info$frequency_file %>% base::unique()\n",
    "\n",
    "    geno_all <- list()\n",
    "    for (file in file_all)\n",
    "    {\n",
    "        pop_file_info <- pop_all_file_info %>% filter(frequency_file == file)\n",
    "        field <- pop_file_info$field\n",
    "        pop <- pop_file_info$column_name\n",
    "\n",
    "        is_geno <- tools::file_ext(file) == \"geno\"\n",
    "        geno <- if (is_geno) readr::read_fwf(file, col_positions=readr::fwf_positions(field, field, col_names=pop), col_types=readr::cols(.default=\"i\"), na=\"9\") else data.table::fread(file=file, header=FALSE, select=field, na.strings=c(\"-1\", \"*\"), col.names=pop)\n",
    "        if (!is.na(mask))\n",
    "            geno <- geno[mask, ]\n",
    "        geno_all <- geno_all %>% append(geno)\n",
    "    }\n",
    "\n",
    "    return(geno_all)\n",
    "}"
   ]
  },
  {
   "cell_type": "code",
   "execution_count": 13,
   "metadata": {
    "vscode": {
     "languageId": "r"
    }
   },
   "outputs": [],
   "source": [
    "column_full_length <- pop_to_freq(column_name_full_length)"
   ]
  },
  {
   "cell_type": "code",
   "execution_count": 35,
   "metadata": {
    "vscode": {
     "languageId": "r"
    }
   },
   "outputs": [],
   "source": [
    "\n",
    "get_freq <- function(pop, lth) # new parameters to add: keep_frac = FALSE\n",
    "{\n",
    "    #\n",
    "    if (pop %in% names(pop_info))\n",
    "    {\n",
    "        if (!is.na(pop_info[[pop]]$lth))\n",
    "            return()\n",
    "        \n",
    "        data_type <- pop_info[[pop]]$data_type\n",
    "        if (data_type == \"frac2\")\n",
    "        {\n",
    "            pop_num <- paste0(pop, \"~num\")\n",
    "            pop_deno <- paste0(pop, \"~deno\")\n",
    "            \n",
    "            pop_info[[pop]]$num <<- column_full_length[[pop_num]]\n",
    "            pop_info[[pop]]$deno <<- column_full_length[[pop_deno]]\n",
    "            pop_info[[pop]]$freq <<- ( column_full_length[[pop_num]] / column_full_length[[pop_deno]] ) %>% replace(is.nan(.), NA)\n",
    "            pop_info[[pop]]$lth <<- lth\n",
    "        } else if (data_type == \"frac1\")\n",
    "        {\n",
    "            geno <- column_full_length[[pop]]\n",
    "            geno_na <- is.na(geno)\n",
    "            \n",
    "            pop_info[[pop]]$num <<- replace(geno, geno_na, 0)\n",
    "            pop_info[[pop]]$deno <<- ifelse(geno_na, 0, pop_info[[pop]]$total)\n",
    "            pop_info[[pop]]$freq <<- geno / pop_info[[pop]]$total\n",
    "            pop_info[[pop]]$lth <<- lth\n",
    "        } else if (data_type == \"freq\")\n",
    "        {\n",
    "            # message(\"Can not be added!\")\n",
    "            pop_info[[pop]]$freq <<- column_full_length[[pop]]\n",
    "            pop_info[[pop]]$lth <<- lth\n",
    "        }\n",
    "    }\n",
    "        \n",
    "    else if (pop %in% names(pop_def))\n",
    "    {\n",
    "        num_sum <- 0\n",
    "        deno_sum <- 0\n",
    "        total_sum <- 0\n",
    "        for (pop0 in pop_def[[pop]])\n",
    "        {\n",
    "            get_freq(pop0, lth)\n",
    "            num_sum <- num_sum + pop_info[[pop0]]$num\n",
    "            deno_sum <- deno_sum + pop_info[[pop0]]$deno\n",
    "            total_sum <- total_sum + pop_info[[pop0]]$total\n",
    "        }\n",
    "        pop_info[[pop]] <<- list(data_type = \"frac2\", total = total_sum, num = num_sum, deno = deno_sum, freq = (num_sum / deno_sum) %>% replace(is.nan(.), NA), lth = lth)\n",
    "    }\n",
    "    \n",
    "}"
   ]
  },
  {
   "cell_type": "code",
   "execution_count": null,
   "metadata": {
    "vscode": {
     "languageId": "r"
    }
   },
   "outputs": [],
   "source": []
  },
  {
   "cell_type": "code",
   "execution_count": 10,
   "metadata": {
    "vscode": {
     "languageId": "r"
    }
   },
   "outputs": [],
   "source": [
    "geno_all <- pop_to_freq(frequency_files_info_filtered$column_name)"
   ]
  },
  {
   "cell_type": "code",
   "execution_count": 9,
   "metadata": {
    "vscode": {
     "languageId": "r"
    }
   },
   "outputs": [
    {
     "data": {
      "text/html": [
       "<style>\n",
       ".list-inline {list-style: none; margin:0; padding: 0}\n",
       ".list-inline>li {display: inline-block}\n",
       ".list-inline>li:not(:last-child)::after {content: \"\\00b7\"; padding: 0 .5ex}\n",
       "</style>\n",
       "<ol class=list-inline><li>'AFR_all'</li><li>'CEU'</li><li>'FIN'</li><li>'GBR'</li><li>'IBS'</li><li>'TSI'</li><li>'HGDP01381'</li><li>'HGDP01382'</li><li>'HGDP01383'</li><li>'HGDP01384'</li><li>'HGDP01385'</li><li>'HGDP01386'</li><li>'HGDP01387'</li><li>'HGDP01388'</li><li>'HGDP01396'</li><li>'HGDP01397'</li><li>'HGDP01398'</li><li>'HGDP01399'</li><li>'HGDP01400'</li><li>'HGDP01403'</li><li>'HGDP01404'</li><li>'LP6005441-DNA_A01'</li><li>'LP6005441-DNA_B01'</li></ol>\n"
      ],
      "text/latex": [
       "\\begin{enumerate*}\n",
       "\\item 'AFR\\_all'\n",
       "\\item 'CEU'\n",
       "\\item 'FIN'\n",
       "\\item 'GBR'\n",
       "\\item 'IBS'\n",
       "\\item 'TSI'\n",
       "\\item 'HGDP01381'\n",
       "\\item 'HGDP01382'\n",
       "\\item 'HGDP01383'\n",
       "\\item 'HGDP01384'\n",
       "\\item 'HGDP01385'\n",
       "\\item 'HGDP01386'\n",
       "\\item 'HGDP01387'\n",
       "\\item 'HGDP01388'\n",
       "\\item 'HGDP01396'\n",
       "\\item 'HGDP01397'\n",
       "\\item 'HGDP01398'\n",
       "\\item 'HGDP01399'\n",
       "\\item 'HGDP01400'\n",
       "\\item 'HGDP01403'\n",
       "\\item 'HGDP01404'\n",
       "\\item 'LP6005441-DNA\\_A01'\n",
       "\\item 'LP6005441-DNA\\_B01'\n",
       "\\end{enumerate*}\n"
      ],
      "text/markdown": [
       "1. 'AFR_all'\n",
       "2. 'CEU'\n",
       "3. 'FIN'\n",
       "4. 'GBR'\n",
       "5. 'IBS'\n",
       "6. 'TSI'\n",
       "7. 'HGDP01381'\n",
       "8. 'HGDP01382'\n",
       "9. 'HGDP01383'\n",
       "10. 'HGDP01384'\n",
       "11. 'HGDP01385'\n",
       "12. 'HGDP01386'\n",
       "13. 'HGDP01387'\n",
       "14. 'HGDP01388'\n",
       "15. 'HGDP01396'\n",
       "16. 'HGDP01397'\n",
       "17. 'HGDP01398'\n",
       "18. 'HGDP01399'\n",
       "19. 'HGDP01400'\n",
       "20. 'HGDP01403'\n",
       "21. 'HGDP01404'\n",
       "22. 'LP6005441-DNA_A01'\n",
       "23. 'LP6005441-DNA_B01'\n",
       "\n",
       "\n"
      ],
      "text/plain": [
       " [1] \"AFR_all\"           \"CEU\"               \"FIN\"              \n",
       " [4] \"GBR\"               \"IBS\"               \"TSI\"              \n",
       " [7] \"HGDP01381\"         \"HGDP01382\"         \"HGDP01383\"        \n",
       "[10] \"HGDP01384\"         \"HGDP01385\"         \"HGDP01386\"        \n",
       "[13] \"HGDP01387\"         \"HGDP01388\"         \"HGDP01396\"        \n",
       "[16] \"HGDP01397\"         \"HGDP01398\"         \"HGDP01399\"        \n",
       "[19] \"HGDP01400\"         \"HGDP01403\"         \"HGDP01404\"        \n",
       "[22] \"LP6005441-DNA_A01\" \"LP6005441-DNA_B01\""
      ]
     },
     "metadata": {},
     "output_type": "display_data"
    }
   ],
   "source": [
    "names(pop_info)"
   ]
  },
  {
   "cell_type": "code",
   "execution_count": 10,
   "metadata": {
    "vscode": {
     "languageId": "r"
    }
   },
   "outputs": [
    {
     "data": {
      "text/html": [
       "<strong>$EUR5</strong> = <style>\n",
       ".list-inline {list-style: none; margin:0; padding: 0}\n",
       ".list-inline>li {display: inline-block}\n",
       ".list-inline>li:not(:last-child)::after {content: \"\\00b7\"; padding: 0 .5ex}\n",
       "</style>\n",
       "<ol class=list-inline><li>'CEU'</li><li>'FIN'</li><li>'GBR'</li><li>'IBS'</li><li>'TSI'</li></ol>\n"
      ],
      "text/latex": [
       "\\textbf{\\$EUR5} = \\begin{enumerate*}\n",
       "\\item 'CEU'\n",
       "\\item 'FIN'\n",
       "\\item 'GBR'\n",
       "\\item 'IBS'\n",
       "\\item 'TSI'\n",
       "\\end{enumerate*}\n"
      ],
      "text/markdown": [
       "**$EUR5** = 1. 'CEU'\n",
       "2. 'FIN'\n",
       "3. 'GBR'\n",
       "4. 'IBS'\n",
       "5. 'TSI'\n",
       "\n",
       "\n"
      ],
      "text/plain": [
       "$EUR5\n",
       "[1] \"CEU\" \"FIN\" \"GBR\" \"IBS\" \"TSI\"\n"
      ]
     },
     "metadata": {},
     "output_type": "display_data"
    }
   ],
   "source": [
    "pop_def"
   ]
  },
  {
   "cell_type": "code",
   "execution_count": 15,
   "metadata": {
    "vscode": {
     "languageId": "r"
    }
   },
   "outputs": [],
   "source": [
    "filter_outgroup_max_hetero <- pop_info[[asc_outgroup]]$freq <= outgroup_max_hetero | pop_info[[asc_outgroup]]$freq >= 1 - outgroup_max_hetero\n",
    "\n",
    "filter_refpop_max_miss <- pop_info[[asc_refpop]]$deno >= pop_info[[asc_refpop]]$total * (1 - refpop_max_miss)\n",
    "\n",
    "filter_refpop_remove_homo <- ! (pop_info[[asc_refpop]]$freq == 0 | pop_info[[asc_refpop]]$freq == 1)"
   ]
  },
  {
   "cell_type": "code",
   "execution_count": 16,
   "metadata": {
    "vscode": {
     "languageId": "r"
    }
   },
   "outputs": [],
   "source": [
    "filter_all <- ( if (refpop_remove_homo) filter_outgroup_max_hetero & filter_refpop_max_miss & filter_refpop_remove_homo else filter_outgroup_max_hetero & filter_refpop_max_miss ) %>% replace(is.na(.), FALSE)"
   ]
  },
  {
   "cell_type": "code",
   "execution_count": 17,
   "metadata": {
    "vscode": {
     "languageId": "r"
    }
   },
   "outputs": [],
   "source": [
    "for (pop in names(pop_info))\n",
    "{\n",
    "    #\n",
    "    if (!is.null(pop_info[[pop]]$freq))\n",
    "    {\n",
    "        pop_info[[pop]]$num <- NULL\n",
    "        pop_info[[pop]]$deno <- NULL\n",
    "        pop_info[[pop]]$freq <- pop_info[[pop]]$freq[filter_all]\n",
    "        next\n",
    "    }\n",
    "\n",
    "    data_type <- pop_info[[pop]]$data_type\n",
    "    if (data_type == \"frac2\")\n",
    "    {\n",
    "        pop_num <- paste0(pop, \"~num\")\n",
    "        pop_deno <- paste0(pop, \"~deno\")\n",
    "\n",
    "        pop_info[[pop]]$freq <- ( geno_all[[pop_num]][filter_all] / geno_all[[pop_deno]][filter_all] ) %>% replace(is.nan(.), NA)\n",
    "    } else if (data_type == \"frac1\")\n",
    "    {\n",
    "        pop_info[[pop]]$freq <- geno_all[[pop]][filter_all] / pop_info[[pop]]$total\n",
    "    } else if (data_type == \"freq\")\n",
    "    {\n",
    "        pop_info[[pop]]$freq <- geno_all[[pop]][filter_all]\n",
    "    }\n",
    "}"
   ]
  },
  {
   "cell_type": "code",
   "execution_count": null,
   "metadata": {
    "vscode": {
     "languageId": "r"
    }
   },
   "outputs": [],
   "source": []
  },
  {
   "cell_type": "markdown",
   "metadata": {
    "vscode": {
     "languageId": "r"
    }
   },
   "source": [
    "\n",
    "\n",
    " should modify outgroup case\n",
    "\n",
    "if (!is.na(asc_freq_file))\n",
    "{\n",
    "    if (file.exists(asc_freq_file))\n",
    "    {\n",
    "        asc_freq <- utils::read.table(asc_freq_file, header = FALSE, sep = \"\\t\")[[1]]\n",
    "    } else\n",
    "    {\n",
    "        asc_freq_file <- NA\n",
    "        message(\"The ascertainment file \", asc_freq_file , \" does not exist. No ascertainment is defined.\")\n",
    "    }\n",
    "}\n",
    "\n",
    "if (is.na(asc_freq_file) && !is.na(outgroup))\n",
    "{\n",
    "    message(\"Outgroup only applies when ascertainment is defined.\")\n",
    "    outgroup <- NA\n",
    "}\n",
    "\n",
    "if (!is.na(outgroup) && ! outgroup %in% column_names_all)\n",
    "{\n",
    "    message(\"Outgroup \", outgroup, \" is not in the population name list.\")\n",
    "    outgroup <- NA\n",
    "}\n"
   ]
  },
  {
   "cell_type": "code",
   "execution_count": 18,
   "metadata": {
    "vscode": {
     "languageId": "r"
    }
   },
   "outputs": [
    {
     "name": "stderr",
     "output_type": "stream",
     "text": [
      "PopA:\n",
      "\n",
      "Input 1 valid population(s): AFR_all.\n",
      "\n",
      "PopB:\n",
      "\n",
      "Input 5 valid population(s): CEU, FIN, GBR, IBS, TSI.\n",
      "\n",
      "PopC:\n",
      "\n",
      "Input 17 valid population(s): HGDP01381, HGDP01382, HGDP01383, HGDP01384, HGDP01385, HGDP01386, HGDP01387, HGDP01388, HGDP01396, HGDP01397, HGDP01398, HGDP01399, HGDP01400, HGDP01403, HGDP01404, LP6005441-DNA_A01, LP6005441-DNA_B01.\n",
      "\n"
     ]
    }
   ],
   "source": [
    "\n",
    "pop_str_convert <- function(pop_str, universe)\n",
    "{\n",
    "    pop <- ( if (file.exists(pop_str)) utils::read.table(pop_str, header=FALSE, sep = \"\\t\")[[1]] else base::strsplit(pop_str, \",\")[[1]] ) %>% .[. %in% universe] %>% base::unique()\n",
    "    message(\"Input \", length(pop), \" valid population(s): \", base::paste(pop, collapse=\", \"), \".\")\n",
    "    return(pop)\n",
    "}\n",
    "\n",
    "message(\"PopA:\")\n",
    "popA_all <- pop_str_convert(popA_str, names(pop_info))\n",
    "message(\"PopB:\")\n",
    "popB_all <- pop_str_convert(popB_str, names(pop_info))\n",
    "if (n_pops >= 3)\n",
    "{\n",
    "    message(\"PopC:\")\n",
    "    popC_all <- pop_str_convert(popC_str, names(pop_info))\n",
    "} else\n",
    "    popC_all <- NA\n",
    "if (n_pops == 4)\n",
    "{\n",
    "    message(\"PopD:\")\n",
    "    popD_all <- pop_str_convert(popD_str, names(pop_info))\n",
    "} else\n",
    "    popD_all <- NA\n",
    "\n"
   ]
  },
  {
   "cell_type": "code",
   "execution_count": 5,
   "metadata": {
    "vscode": {
     "languageId": "r"
    }
   },
   "outputs": [],
   "source": [
    "fill_na_with_ref <- function(tgt, ref)\n",
    "{\n",
    "    pos <- is.na(tgt)\n",
    "    tgt[pos] <- if (length(ref)==1) ref else ref[pos]\n",
    "    return(tgt)\n",
    "}"
   ]
  },
  {
   "cell_type": "code",
   "execution_count": 7,
   "metadata": {
    "vscode": {
     "languageId": "r"
    }
   },
   "outputs": [],
   "source": [
    "if (!is.na(position_file) && !file.exists(position_file))\n",
    "{\n",
    "    position_file <- NA\n",
    "    message(\"The position file\", position_file, \"does not exist.\")\n",
    "}\n",
    "    \n",
    "position <- if (!is.na(position_file)) utils::read.table(position_file, header = FALSE, sep = \"\\t\", col.names = c(\"CHR\", \"POS\")) else pop_to_freq(c(\"CHR\", \"POS\"), frequency_files_info)"
   ]
  },
  {
   "cell_type": "code",
   "execution_count": 8,
   "metadata": {
    "vscode": {
     "languageId": "r"
    }
   },
   "outputs": [],
   "source": [
    "outgroup_freq <- pop_to_freq(outgroup, frequency_files_info)[[outgroup]]"
   ]
  },
  {
   "cell_type": "code",
   "execution_count": 9,
   "metadata": {
    "vscode": {
     "languageId": "r"
    }
   },
   "outputs": [],
   "source": [
    "popA_freq <- pop_to_freq(popA_all, frequency_files_info) %>% {if (!is.na(popA_fillna)) base::lapply(., fill_na_with_ref, ref=if (popA_fillna==\"Outgroup\") outgroup_freq else 0) else .}"
   ]
  },
  {
   "cell_type": "code",
   "execution_count": 10,
   "metadata": {
    "vscode": {
     "languageId": "r"
    }
   },
   "outputs": [],
   "source": [
    "popB_freq <- pop_to_freq(popB_all, frequency_files_info) %>% {if (!is.na(popB_fillna)) base::lapply(., fill_na_with_ref, ref=if (popB_fillna==\"Outgroup\") outgroup_freq else 0) else .}"
   ]
  },
  {
   "cell_type": "code",
   "execution_count": 11,
   "metadata": {
    "vscode": {
     "languageId": "r"
    }
   },
   "outputs": [],
   "source": [
    "if (n_pops >= 3)\n",
    "{\n",
    "    popC_freq <- pop_to_freq(popC_all, frequency_files_info) %>% {if (!is.na(popC_fillna)) base::lapply(., fill_na_with_ref, ref=if (popC_fillna==\"Outgroup\") outgroup_freq else 0) else .}\n",
    "} else\n",
    "    popC_freq <- NA"
   ]
  },
  {
   "cell_type": "code",
   "execution_count": 12,
   "metadata": {
    "vscode": {
     "languageId": "r"
    }
   },
   "outputs": [],
   "source": [
    "if (n_pops == 4)\n",
    "{\n",
    "    popD_freq <- pop_to_freq(popD_all, frequency_files_info) %>% {if (!is.na(popD_fillna)) base::lapply(., fill_na_with_ref, ref=if (popD_fillna==\"Outgroup\") outgroup_freq else 0) else .}\n",
    "} else\n",
    "    popD_freq <- NA"
   ]
  },
  {
   "cell_type": "code",
   "execution_count": 13,
   "metadata": {
    "vscode": {
     "languageId": "r"
    }
   },
   "outputs": [
    {
     "data": {
      "text/html": [
       "'AFR_all'"
      ],
      "text/latex": [
       "'AFR\\_all'"
      ],
      "text/markdown": [
       "'AFR_all'"
      ],
      "text/plain": [
       "[1] \"AFR_all\""
      ]
     },
     "metadata": {},
     "output_type": "display_data"
    },
    {
     "data": {
      "text/html": [
       "<style>\n",
       ".list-inline {list-style: none; margin:0; padding: 0}\n",
       ".list-inline>li {display: inline-block}\n",
       ".list-inline>li:not(:last-child)::after {content: \"\\00b7\"; padding: 0 .5ex}\n",
       "</style>\n",
       "<ol class=list-inline><li>'CEU'</li><li>'FIN'</li><li>'GBR'</li><li>'IBS'</li><li>'TSI'</li></ol>\n"
      ],
      "text/latex": [
       "\\begin{enumerate*}\n",
       "\\item 'CEU'\n",
       "\\item 'FIN'\n",
       "\\item 'GBR'\n",
       "\\item 'IBS'\n",
       "\\item 'TSI'\n",
       "\\end{enumerate*}\n"
      ],
      "text/markdown": [
       "1. 'CEU'\n",
       "2. 'FIN'\n",
       "3. 'GBR'\n",
       "4. 'IBS'\n",
       "5. 'TSI'\n",
       "\n",
       "\n"
      ],
      "text/plain": [
       "[1] \"CEU\" \"FIN\" \"GBR\" \"IBS\" \"TSI\""
      ]
     },
     "metadata": {},
     "output_type": "display_data"
    },
    {
     "data": {
      "text/html": [
       "<style>\n",
       ".list-inline {list-style: none; margin:0; padding: 0}\n",
       ".list-inline>li {display: inline-block}\n",
       ".list-inline>li:not(:last-child)::after {content: \"\\00b7\"; padding: 0 .5ex}\n",
       "</style>\n",
       "<ol class=list-inline><li>'HGDP01381'</li><li>'HGDP01382'</li><li>'HGDP01383'</li><li>'HGDP01384'</li><li>'HGDP01385'</li><li>'HGDP01386'</li><li>'HGDP01387'</li><li>'HGDP01388'</li><li>'HGDP01396'</li><li>'HGDP01397'</li><li>'HGDP01398'</li><li>'HGDP01399'</li><li>'HGDP01400'</li><li>'HGDP01403'</li><li>'HGDP01404'</li><li>'LP6005441-DNA_A01'</li><li>'LP6005441-DNA_B01'</li></ol>\n"
      ],
      "text/latex": [
       "\\begin{enumerate*}\n",
       "\\item 'HGDP01381'\n",
       "\\item 'HGDP01382'\n",
       "\\item 'HGDP01383'\n",
       "\\item 'HGDP01384'\n",
       "\\item 'HGDP01385'\n",
       "\\item 'HGDP01386'\n",
       "\\item 'HGDP01387'\n",
       "\\item 'HGDP01388'\n",
       "\\item 'HGDP01396'\n",
       "\\item 'HGDP01397'\n",
       "\\item 'HGDP01398'\n",
       "\\item 'HGDP01399'\n",
       "\\item 'HGDP01400'\n",
       "\\item 'HGDP01403'\n",
       "\\item 'HGDP01404'\n",
       "\\item 'LP6005441-DNA\\_A01'\n",
       "\\item 'LP6005441-DNA\\_B01'\n",
       "\\end{enumerate*}\n"
      ],
      "text/markdown": [
       "1. 'HGDP01381'\n",
       "2. 'HGDP01382'\n",
       "3. 'HGDP01383'\n",
       "4. 'HGDP01384'\n",
       "5. 'HGDP01385'\n",
       "6. 'HGDP01386'\n",
       "7. 'HGDP01387'\n",
       "8. 'HGDP01388'\n",
       "9. 'HGDP01396'\n",
       "10. 'HGDP01397'\n",
       "11. 'HGDP01398'\n",
       "12. 'HGDP01399'\n",
       "13. 'HGDP01400'\n",
       "14. 'HGDP01403'\n",
       "15. 'HGDP01404'\n",
       "16. 'LP6005441-DNA_A01'\n",
       "17. 'LP6005441-DNA_B01'\n",
       "\n",
       "\n"
      ],
      "text/plain": [
       " [1] \"HGDP01381\"         \"HGDP01382\"         \"HGDP01383\"        \n",
       " [4] \"HGDP01384\"         \"HGDP01385\"         \"HGDP01386\"        \n",
       " [7] \"HGDP01387\"         \"HGDP01388\"         \"HGDP01396\"        \n",
       "[10] \"HGDP01397\"         \"HGDP01398\"         \"HGDP01399\"        \n",
       "[13] \"HGDP01400\"         \"HGDP01403\"         \"HGDP01404\"        \n",
       "[16] \"LP6005441-DNA_A01\" \"LP6005441-DNA_B01\""
      ]
     },
     "metadata": {},
     "output_type": "display_data"
    },
    {
     "data": {
      "text/html": [
       "&lt;NA&gt;"
      ],
      "text/latex": [
       "<NA>"
      ],
      "text/markdown": [
       "&lt;NA&gt;"
      ],
      "text/plain": [
       "[1] NA"
      ]
     },
     "metadata": {},
     "output_type": "display_data"
    }
   ],
   "source": [
    "popA_all\n",
    "popB_all\n",
    "popC_all\n",
    "popD_all"
   ]
  },
  {
   "cell_type": "code",
   "execution_count": null,
   "metadata": {
    "vscode": {
     "languageId": "r"
    }
   },
   "outputs": [],
   "source": []
  },
  {
   "cell_type": "code",
   "execution_count": 15,
   "metadata": {
    "vscode": {
     "languageId": "r"
    }
   },
   "outputs": [],
   "source": [
    "all_stats <- tidyr::crossing(popA = popA_all, popB = popB_all, popC = popC_all, popD = popD_all)"
   ]
  },
  {
   "cell_type": "code",
   "execution_count": 15,
   "metadata": {
    "vscode": {
     "languageId": "r"
    }
   },
   "outputs": [],
   "source": [
    "block_id <- if (jackknife==\"CHR\") position[[\"CHR\"]] else position[[\"CHR\"]] * 100 + position[[\"POS\"]] %/% jackknife"
   ]
  },
  {
   "cell_type": "code",
   "execution_count": 16,
   "metadata": {
    "vscode": {
     "languageId": "r"
    }
   },
   "outputs": [],
   "source": [
    "f_value <- switch(as.character(n_pops), \"2\"=(popB_freq[[popB]] - popA_freq[[popA]]) ^ 2, \"3\"=(popB_freq[[popB]] - popA_freq[[popA]]) * (popC_freq[[popC]] - popA_freq[[popA]]), \"4\"=(popB_freq[[popB]] - popA_freq[[popA]]) * (popD_freq[[popD]] - popC_freq[[popC]]))"
   ]
  },
  {
   "cell_type": "code",
   "execution_count": 62,
   "metadata": {
    "vscode": {
     "languageId": "r"
    }
   },
   "outputs": [],
   "source": [
    "# ascertainment\n",
    "fsum_block_asc_cutoff <- data.table::data.table(block_id=block_id, asc_freq=asc_freq, f_value=f_value)[, .(Nr_sites_all=.N, Nr_sites_nonmissing=sum(!is.na(f_value)), fsum=sum(f_value, na.rm=TRUE)), .(block_id, asc_freq)][base::order(block_id, asc_freq)][, .(asc_freq_max=asc_freq, Nr_sites_all=cumsum(Nr_sites_all), Nr_sites_nonmissing=cumsum(Nr_sites_nonmissing), fsum=cumsum(fsum)), .(block_id)]"
   ]
  },
  {
   "cell_type": "code",
   "execution_count": 64,
   "metadata": {
    "vscode": {
     "languageId": "r"
    }
   },
   "outputs": [],
   "source": [
    "fsum_block_asc_cutoff[, c(\"popA\", \"popB\", \"popC\", \"popD\") := data.frame(popA, popB, popC, popD)]"
   ]
  },
  {
   "cell_type": "code",
   "execution_count": null,
   "metadata": {
    "vscode": {
     "languageId": "r"
    }
   },
   "outputs": [],
   "source": [
    "# no ascertainment\n",
    "fsum_block_asc_cutoff <- data.table::data.table(block_id=block_id, f_value=f_value)[, .(Nr_sites_all=.N, Nr_sites_nonmissing=sum(!is.na(f_value)), fsum=sum(f_value, na.rm=TRUE)), .(block_id)][base::order(block_id)]"
   ]
  },
  {
   "cell_type": "code",
   "execution_count": 89,
   "metadata": {
    "vscode": {
     "languageId": "r"
    }
   },
   "outputs": [],
   "source": [
    "get_blockfsum <- function(popA, popB, popC, popD)\n",
    "{\n",
    "    f_value <- switch(as.character(n_pops), \"2\"=(popB_freq[[popB]] - popA_freq[[popA]]) ^ 2, \"3\"=(popB_freq[[popB]] - popA_freq[[popA]]) * (popC_freq[[popC]] - popA_freq[[popA]]), \"4\"=(popB_freq[[popB]] - popA_freq[[popA]]) * (popD_freq[[popD]] - popC_freq[[popC]]))\n",
    "\n",
    "    #return(f_value)\n",
    "\n",
    "    if (!is.na(asc_freq_file))\n",
    "    {\n",
    "        fsum_block_asc_cutoff <- data.table::data.table(block_id=block_id, asc_freq=asc_freq, f_value=f_value)[, .(Nr_sites_all=.N, Nr_sites_nonmissing=sum(!is.na(f_value)), fsum=sum(f_value, na.rm=TRUE)), .(block_id, asc_freq)][base::order(block_id, asc_freq)][, .(asc_freq_max=asc_freq, Nr_sites_all=cumsum(Nr_sites_all), Nr_sites_nonmissing=cumsum(Nr_sites_nonmissing), fsum=cumsum(fsum)), .(block_id)]\n",
    "    } else\n",
    "        fsum_block_asc_cutoff <- data.table::data.table(block_id=block_id, f_value=f_value)[, .(Nr_sites_all=.N, Nr_sites_nonmissing=sum(!is.na(f_value)), fsum=sum(f_value, na.rm=TRUE)), .(block_id)][base::order(block_id)]\n",
    "    \n",
    "    return(fsum_block_asc_cutoff[, c(\"popA\", \"popB\", \"popC\", \"popD\") := data.frame(popA, popB, popC, popD)])\n",
    "}"
   ]
  },
  {
   "cell_type": "code",
   "execution_count": 98,
   "metadata": {
    "vscode": {
     "languageId": "r"
    }
   },
   "outputs": [],
   "source": [
    "fsum_block_asc_cutoff_all <- purrr::pmap(all_stats, get_blockfsum) %>% do.call(base::rbind, .)"
   ]
  },
  {
   "cell_type": "code",
   "execution_count": 91,
   "metadata": {
    "vscode": {
     "languageId": "r"
    }
   },
   "outputs": [
    {
     "name": "stderr",
     "output_type": "stream",
     "text": [
      "Loading required package: future\n",
      "\n"
     ]
    }
   ],
   "source": [
    "library(furrr)"
   ]
  },
  {
   "cell_type": "code",
   "execution_count": 93,
   "metadata": {
    "vscode": {
     "languageId": "r"
    }
   },
   "outputs": [],
   "source": [
    "future::plan(multisession, workers = 8)"
   ]
  },
  {
   "cell_type": "code",
   "execution_count": 102,
   "metadata": {
    "vscode": {
     "languageId": "r"
    }
   },
   "outputs": [
    {
     "data": {
      "text/html": [
       "<ol>\n",
       "\t<li>NULL</li>\n",
       "\t<li>NULL</li>\n",
       "\t<li>NULL</li>\n",
       "\t<li>NULL</li>\n",
       "\t<li>NULL</li>\n",
       "\t<li>NULL</li>\n",
       "\t<li>NULL</li>\n",
       "\t<li>NULL</li>\n",
       "\t<li>NULL</li>\n",
       "\t<li>NULL</li>\n",
       "\t<li>NULL</li>\n",
       "\t<li>NULL</li>\n",
       "\t<li>NULL</li>\n",
       "\t<li>NULL</li>\n",
       "\t<li>NULL</li>\n",
       "\t<li>NULL</li>\n",
       "</ol>\n"
      ],
      "text/latex": [
       "\\begin{enumerate}\n",
       "\\item NULL\n",
       "\\item NULL\n",
       "\\item NULL\n",
       "\\item NULL\n",
       "\\item NULL\n",
       "\\item NULL\n",
       "\\item NULL\n",
       "\\item NULL\n",
       "\\item NULL\n",
       "\\item NULL\n",
       "\\item NULL\n",
       "\\item NULL\n",
       "\\item NULL\n",
       "\\item NULL\n",
       "\\item NULL\n",
       "\\item NULL\n",
       "\\end{enumerate}\n"
      ],
      "text/markdown": [
       "1. NULL\n",
       "2. NULL\n",
       "3. NULL\n",
       "4. NULL\n",
       "5. NULL\n",
       "6. NULL\n",
       "7. NULL\n",
       "8. NULL\n",
       "9. NULL\n",
       "10. NULL\n",
       "11. NULL\n",
       "12. NULL\n",
       "13. NULL\n",
       "14. NULL\n",
       "15. NULL\n",
       "16. NULL\n",
       "\n",
       "\n"
      ],
      "text/plain": [
       "[[1]]\n",
       "NULL\n",
       "\n",
       "[[2]]\n",
       "NULL\n",
       "\n",
       "[[3]]\n",
       "NULL\n",
       "\n",
       "[[4]]\n",
       "NULL\n",
       "\n",
       "[[5]]\n",
       "NULL\n",
       "\n",
       "[[6]]\n",
       "NULL\n",
       "\n",
       "[[7]]\n",
       "NULL\n",
       "\n",
       "[[8]]\n",
       "NULL\n",
       "\n",
       "[[9]]\n",
       "NULL\n",
       "\n",
       "[[10]]\n",
       "NULL\n",
       "\n",
       "[[11]]\n",
       "NULL\n",
       "\n",
       "[[12]]\n",
       "NULL\n",
       "\n",
       "[[13]]\n",
       "NULL\n",
       "\n",
       "[[14]]\n",
       "NULL\n",
       "\n",
       "[[15]]\n",
       "NULL\n",
       "\n",
       "[[16]]\n",
       "NULL\n"
      ]
     },
     "metadata": {},
     "output_type": "display_data"
    }
   ],
   "source": [
    "future_map(rep(2,16), ~Sys.sleep(.x))"
   ]
  },
  {
   "cell_type": "code",
   "execution_count": 96,
   "metadata": {
    "vscode": {
     "languageId": "r"
    }
   },
   "outputs": [],
   "source": [
    "options(future.globals.maxSize = 3000 * 1024^2)"
   ]
  },
  {
   "cell_type": "code",
   "execution_count": null,
   "metadata": {
    "vscode": {
     "languageId": "r"
    }
   },
   "outputs": [],
   "source": [
    "furrr::future_pmap(all_stats, get_blockfsum)# %>% do.call(base::rbind, .)"
   ]
  },
  {
   "cell_type": "code",
   "execution_count": null,
   "metadata": {
    "vscode": {
     "languageId": "r"
    }
   },
   "outputs": [],
   "source": []
  },
  {
   "cell_type": "code",
   "execution_count": null,
   "metadata": {
    "vscode": {
     "languageId": "r"
    }
   },
   "outputs": [],
   "source": []
  },
  {
   "cell_type": "code",
   "execution_count": null,
   "metadata": {
    "vscode": {
     "languageId": "r"
    }
   },
   "outputs": [],
   "source": []
  },
  {
   "cell_type": "code",
   "execution_count": 2,
   "metadata": {
    "vscode": {
     "languageId": "r"
    }
   },
   "outputs": [],
   "source": [
    "# input parameters\n",
    "\n",
    "sfs_file <- \"sfs_1Test/CHR.FIN.EUR_all.OAI009.sfs\"\n",
    "\n",
    "block_col <- 1\n",
    "\n",
    "block_id_all <- 1:22\n",
    "\n",
    "n_pops <- 3\n",
    "\n",
    "pop_cols <- c(0,2,4)\n",
    "\n",
    "pop_sizes <- c(NA,198,2)\n",
    "\n",
    "count_col <- 5\n",
    "\n",
    "asc_col <- 3\n",
    "\n",
    "min_freq_all <- 1\n",
    "\n",
    "max_freq_all <- 1:100\n",
    "\n",
    "all_sites_block <- TRUE\n",
    "\n",
    "min_sites_block <- 1000\n"
   ]
  },
  {
   "cell_type": "code",
   "execution_count": 2,
   "metadata": {
    "vscode": {
     "languageId": "r"
    }
   },
   "outputs": [],
   "source": [
    "# sfs2blockfsum: input parameters\n",
    "\n",
    "sfs_file <- \"/mnt/archgen/users/lei_huang/ancient_British/POS.AFR_mono.13EUR+NL+SE.EUR_asc_25p/f3.Out.EUR_pop.British_ind/sfs.d3.count250_round/CHR.NL.count250_round.12880A.freqSum\"\n",
    "\n",
    "block_col <- 1\n",
    "\n",
    "block_id_all <- 1:22\n",
    "\n",
    "n_pops <- 3\n",
    "\n",
    "pop_cols <- c(0,2,4)\n",
    "\n",
    "fill_homo_cols <- c(2) # new arguments to add\n",
    "\n",
    "pop_sizes <- c(NA,1,2)\n",
    "\n",
    "count_col <- NA\n",
    "\n",
    "asc_col <- 3\n"
   ]
  },
  {
   "cell_type": "code",
   "execution_count": 3,
   "metadata": {
    "vscode": {
     "languageId": "r"
    }
   },
   "outputs": [],
   "source": [
    "# should consider the case when we don't have a specific frequency."
   ]
  },
  {
   "cell_type": "code",
   "execution_count": 3,
   "metadata": {
    "vscode": {
     "languageId": "r"
    }
   },
   "outputs": [],
   "source": [
    "sfs <- utils::read.table(sfs_file, header = FALSE, sep = \"\\t\", na.strings = c(\"-1\", \"*\"))"
   ]
  },
  {
   "cell_type": "code",
   "execution_count": 4,
   "metadata": {
    "vscode": {
     "languageId": "r"
    }
   },
   "outputs": [],
   "source": [
    "if (!is.na(fill_homo_cols))\n",
    "    sfs[is.na(sfs[, fill_homo_cols]), fill_homo_cols] <- 0"
   ]
  },
  {
   "cell_type": "code",
   "execution_count": 5,
   "metadata": {
    "vscode": {
     "languageId": "r"
    }
   },
   "outputs": [],
   "source": [
    "allele_freq <- list()\n",
    "for (i in 1:n_pops)\n",
    "   allele_freq[[i]] <- if (pop_cols[i]) sfs[, pop_cols[i]] / pop_sizes[i] else 0\n",
    "\n",
    "# Compute f value (f2/f3/f4). For sites that are not available in all pops, the value would be NA.\n",
    "sfs$f <- switch(as.character(n_pops), \"2\"=(allele_freq[[2]] - allele_freq[[1]]) ^ 2, \"3\"=(allele_freq[[2]] - allele_freq[[1]]) * (allele_freq[[3]] - allele_freq[[1]]), \"4\"=(allele_freq[[2]] - allele_freq[[1]]) * (allele_freq[[4]] - allele_freq[[3]]))"
   ]
  },
  {
   "cell_type": "code",
   "execution_count": 6,
   "metadata": {
    "vscode": {
     "languageId": "r"
    }
   },
   "outputs": [],
   "source": [
    "fsum_block_asc_cutoff <- data.frame()"
   ]
  },
  {
   "cell_type": "code",
   "execution_count": 7,
   "metadata": {
    "vscode": {
     "languageId": "r"
    }
   },
   "outputs": [],
   "source": [
    "# !is.na(asc_col)\n",
    "\n",
    "asc_freq_all <- base::unique(sfs[, asc_col]) %>% base::sort()\n",
    "\n",
    "#cumulative sum for cutoff min_freq_min:asc_freq_max, with asc_freq_max ranging from min_freq_min to max_freq_max\n",
    "for (block_id in block_id_all)\n",
    "{\n",
    "    sfs_block <- sfs[sfs[, block_col]==block_id, ]\n",
    "\n",
    "    Nr_sites_all <- 0\n",
    "    Nr_sites_nonmissing <- 0\n",
    "    fsum <- 0\n",
    "\n",
    "    for (asc_freq_max in asc_freq_all)\n",
    "    {\n",
    "        sfs_block_asc <- sfs_block[sfs_block[, asc_col]==asc_freq_max, ]\n",
    "\n",
    "        if (!is.na(count_col))\n",
    "        {\n",
    "            Nr_sites_all <- Nr_sites_all + sum(sfs_block_asc[, count_col])\n",
    "            Nr_sites_nonmissing <- Nr_sites_nonmissing + sum(sfs_block_asc[!is.na(sfs_block_asc$f), count_col])\n",
    "            fsum <- fsum + sum(sfs_block_asc[, count_col] * sfs_block_asc$f, na.rm = TRUE)\n",
    "        } else\n",
    "        {\n",
    "            Nr_sites_all <- Nr_sites_all + nrow(sfs_block_asc)\n",
    "            Nr_sites_nonmissing <- Nr_sites_nonmissing + sum(!is.na(sfs_block_asc$f))\n",
    "            fsum <- fsum + sum(sfs_block_asc$f, na.rm = TRUE)\n",
    "        }\n",
    "        \n",
    "\n",
    "        fsum_block_asc_cutoff <- base::rbind(fsum_block_asc_cutoff, list(block_id=block_id, asc_freq_max=asc_freq_max, Nr_sites_all=Nr_sites_all, Nr_sites_nonmissing=Nr_sites_nonmissing, fsum=fsum))\n",
    "    }\n",
    "}"
   ]
  },
  {
   "cell_type": "code",
   "execution_count": 9,
   "metadata": {
    "vscode": {
     "languageId": "r"
    }
   },
   "outputs": [
    {
     "name": "stderr",
     "output_type": "stream",
     "text": [
      "\u001b[1m\u001b[22m`summarise()` has grouped output by 'block_id'. You can override using the\n",
      "`.groups` argument.\n"
     ]
    },
    {
     "data": {
      "text/html": [
       "<table class=\"dataframe\">\n",
       "<caption>A tibble: 4888 × 5</caption>\n",
       "<thead>\n",
       "\t<tr><th scope=col>block_id</th><th scope=col>asc_freq_max</th><th scope=col>Nr_sites_all</th><th scope=col>Nr_sites_nonmissing</th><th scope=col>fsum</th></tr>\n",
       "\t<tr><th scope=col>&lt;int&gt;</th><th scope=col>&lt;int&gt;</th><th scope=col>&lt;int&gt;</th><th scope=col>&lt;int&gt;</th><th scope=col>&lt;dbl&gt;</th></tr>\n",
       "</thead>\n",
       "<tbody>\n",
       "\t<tr><td>1</td><td> 0</td><td>2316086</td><td>293700</td><td>0.06513011</td></tr>\n",
       "\t<tr><td>1</td><td> 1</td><td>2577582</td><td>324632</td><td>0.22945873</td></tr>\n",
       "\t<tr><td>1</td><td> 2</td><td>2628512</td><td>330347</td><td>0.49398769</td></tr>\n",
       "\t<tr><td>1</td><td> 3</td><td>2649953</td><td>332667</td><td>0.73346662</td></tr>\n",
       "\t<tr><td>1</td><td> 4</td><td>2662040</td><td>333924</td><td>0.90581142</td></tr>\n",
       "\t<tr><td>1</td><td> 5</td><td>2670048</td><td>334730</td><td>1.11122252</td></tr>\n",
       "\t<tr><td>1</td><td> 6</td><td>2675386</td><td>335231</td><td>1.35370752</td></tr>\n",
       "\t<tr><td>1</td><td> 7</td><td>2679327</td><td>335593</td><td>1.53206412</td></tr>\n",
       "\t<tr><td>1</td><td> 8</td><td>2682136</td><td>335813</td><td>1.60921842</td></tr>\n",
       "\t<tr><td>1</td><td> 9</td><td>2683962</td><td>335949</td><td>1.67735462</td></tr>\n",
       "\t<tr><td>1</td><td>10</td><td>2685661</td><td>336060</td><td>1.88376752</td></tr>\n",
       "\t<tr><td>1</td><td>11</td><td>2687098</td><td>336166</td><td>1.88376752</td></tr>\n",
       "\t<tr><td>1</td><td>12</td><td>2688211</td><td>336234</td><td>1.92785572</td></tr>\n",
       "\t<tr><td>1</td><td>13</td><td>2689118</td><td>336289</td><td>1.97494992</td></tr>\n",
       "\t<tr><td>1</td><td>14</td><td>2689967</td><td>336343</td><td>1.97494992</td></tr>\n",
       "\t<tr><td>1</td><td>15</td><td>2690678</td><td>336386</td><td>2.01603212</td></tr>\n",
       "\t<tr><td>1</td><td>16</td><td>2691317</td><td>336417</td><td>2.06913832</td></tr>\n",
       "\t<tr><td>1</td><td>17</td><td>2691902</td><td>336447</td><td>2.20541062</td></tr>\n",
       "\t<tr><td>1</td><td>18</td><td>2692446</td><td>336469</td><td>2.20541062</td></tr>\n",
       "\t<tr><td>1</td><td>19</td><td>2692945</td><td>336485</td><td>2.20541062</td></tr>\n",
       "\t<tr><td>1</td><td>20</td><td>2693402</td><td>336506</td><td>2.20541062</td></tr>\n",
       "\t<tr><td>1</td><td>21</td><td>2693847</td><td>336516</td><td>2.20541062</td></tr>\n",
       "\t<tr><td>1</td><td>22</td><td>2694239</td><td>336528</td><td>2.28156292</td></tr>\n",
       "\t<tr><td>1</td><td>23</td><td>2694654</td><td>336550</td><td>2.28156292</td></tr>\n",
       "\t<tr><td>1</td><td>24</td><td>2695003</td><td>336561</td><td>2.28156292</td></tr>\n",
       "\t<tr><td>1</td><td>25</td><td>2695412</td><td>336580</td><td>2.28156292</td></tr>\n",
       "\t<tr><td>1</td><td>26</td><td>2695745</td><td>336595</td><td>2.28156292</td></tr>\n",
       "\t<tr><td>1</td><td>27</td><td>2696065</td><td>336611</td><td>2.28156292</td></tr>\n",
       "\t<tr><td>1</td><td>28</td><td>2696394</td><td>336635</td><td>2.28156292</td></tr>\n",
       "\t<tr><td>1</td><td>29</td><td>2696699</td><td>336648</td><td>2.28156292</td></tr>\n",
       "\t<tr><td>⋮</td><td>⋮</td><td>⋮</td><td>⋮</td><td>⋮</td></tr>\n",
       "\t<tr><td>22</td><td>218</td><td>461235</td><td>53440</td><td>10.51203</td></tr>\n",
       "\t<tr><td>22</td><td>219</td><td>461236</td><td>53440</td><td>10.51203</td></tr>\n",
       "\t<tr><td>22</td><td>220</td><td>461237</td><td>53440</td><td>10.51203</td></tr>\n",
       "\t<tr><td>22</td><td>222</td><td>461238</td><td>53440</td><td>10.51203</td></tr>\n",
       "\t<tr><td>22</td><td>223</td><td>461249</td><td>53441</td><td>11.41183</td></tr>\n",
       "\t<tr><td>22</td><td>224</td><td>461251</td><td>53441</td><td>11.41183</td></tr>\n",
       "\t<tr><td>22</td><td>225</td><td>461254</td><td>53441</td><td>11.41183</td></tr>\n",
       "\t<tr><td>22</td><td>226</td><td>461262</td><td>53442</td><td>12.29159</td></tr>\n",
       "\t<tr><td>22</td><td>227</td><td>461265</td><td>53442</td><td>12.29159</td></tr>\n",
       "\t<tr><td>22</td><td>228</td><td>461269</td><td>53442</td><td>12.29159</td></tr>\n",
       "\t<tr><td>22</td><td>229</td><td>461276</td><td>53442</td><td>12.29159</td></tr>\n",
       "\t<tr><td>22</td><td>230</td><td>461298</td><td>53442</td><td>12.29159</td></tr>\n",
       "\t<tr><td>22</td><td>231</td><td>461317</td><td>53442</td><td>12.29159</td></tr>\n",
       "\t<tr><td>22</td><td>232</td><td>461325</td><td>53443</td><td>13.23347</td></tr>\n",
       "\t<tr><td>22</td><td>233</td><td>461327</td><td>53443</td><td>13.23347</td></tr>\n",
       "\t<tr><td>22</td><td>234</td><td>461331</td><td>53444</td><td>14.16934</td></tr>\n",
       "\t<tr><td>22</td><td>235</td><td>461332</td><td>53444</td><td>14.16934</td></tr>\n",
       "\t<tr><td>22</td><td>236</td><td>461340</td><td>53444</td><td>14.16934</td></tr>\n",
       "\t<tr><td>22</td><td>237</td><td>461343</td><td>53444</td><td>14.16934</td></tr>\n",
       "\t<tr><td>22</td><td>238</td><td>461346</td><td>53444</td><td>14.16934</td></tr>\n",
       "\t<tr><td>22</td><td>239</td><td>461349</td><td>53444</td><td>14.16934</td></tr>\n",
       "\t<tr><td>22</td><td>242</td><td>461353</td><td>53445</td><td>15.06914</td></tr>\n",
       "\t<tr><td>22</td><td>243</td><td>461358</td><td>53445</td><td>15.06914</td></tr>\n",
       "\t<tr><td>22</td><td>244</td><td>461362</td><td>53445</td><td>15.06914</td></tr>\n",
       "\t<tr><td>22</td><td>245</td><td>461365</td><td>53446</td><td>15.06914</td></tr>\n",
       "\t<tr><td>22</td><td>246</td><td>461373</td><td>53446</td><td>15.06914</td></tr>\n",
       "\t<tr><td>22</td><td>247</td><td>461379</td><td>53447</td><td>16.05612</td></tr>\n",
       "\t<tr><td>22</td><td>248</td><td>461382</td><td>53447</td><td>16.05612</td></tr>\n",
       "\t<tr><td>22</td><td>249</td><td>461396</td><td>53447</td><td>16.05612</td></tr>\n",
       "\t<tr><td>22</td><td>250</td><td>461421</td><td>53452</td><td>18.05311</td></tr>\n",
       "</tbody>\n",
       "</table>\n"
      ],
      "text/latex": [
       "A tibble: 4888 × 5\n",
       "\\begin{tabular}{lllll}\n",
       " block\\_id & asc\\_freq\\_max & Nr\\_sites\\_all & Nr\\_sites\\_nonmissing & fsum\\\\\n",
       " <int> & <int> & <int> & <int> & <dbl>\\\\\n",
       "\\hline\n",
       "\t 1 &  0 & 2316086 & 293700 & 0.06513011\\\\\n",
       "\t 1 &  1 & 2577582 & 324632 & 0.22945873\\\\\n",
       "\t 1 &  2 & 2628512 & 330347 & 0.49398769\\\\\n",
       "\t 1 &  3 & 2649953 & 332667 & 0.73346662\\\\\n",
       "\t 1 &  4 & 2662040 & 333924 & 0.90581142\\\\\n",
       "\t 1 &  5 & 2670048 & 334730 & 1.11122252\\\\\n",
       "\t 1 &  6 & 2675386 & 335231 & 1.35370752\\\\\n",
       "\t 1 &  7 & 2679327 & 335593 & 1.53206412\\\\\n",
       "\t 1 &  8 & 2682136 & 335813 & 1.60921842\\\\\n",
       "\t 1 &  9 & 2683962 & 335949 & 1.67735462\\\\\n",
       "\t 1 & 10 & 2685661 & 336060 & 1.88376752\\\\\n",
       "\t 1 & 11 & 2687098 & 336166 & 1.88376752\\\\\n",
       "\t 1 & 12 & 2688211 & 336234 & 1.92785572\\\\\n",
       "\t 1 & 13 & 2689118 & 336289 & 1.97494992\\\\\n",
       "\t 1 & 14 & 2689967 & 336343 & 1.97494992\\\\\n",
       "\t 1 & 15 & 2690678 & 336386 & 2.01603212\\\\\n",
       "\t 1 & 16 & 2691317 & 336417 & 2.06913832\\\\\n",
       "\t 1 & 17 & 2691902 & 336447 & 2.20541062\\\\\n",
       "\t 1 & 18 & 2692446 & 336469 & 2.20541062\\\\\n",
       "\t 1 & 19 & 2692945 & 336485 & 2.20541062\\\\\n",
       "\t 1 & 20 & 2693402 & 336506 & 2.20541062\\\\\n",
       "\t 1 & 21 & 2693847 & 336516 & 2.20541062\\\\\n",
       "\t 1 & 22 & 2694239 & 336528 & 2.28156292\\\\\n",
       "\t 1 & 23 & 2694654 & 336550 & 2.28156292\\\\\n",
       "\t 1 & 24 & 2695003 & 336561 & 2.28156292\\\\\n",
       "\t 1 & 25 & 2695412 & 336580 & 2.28156292\\\\\n",
       "\t 1 & 26 & 2695745 & 336595 & 2.28156292\\\\\n",
       "\t 1 & 27 & 2696065 & 336611 & 2.28156292\\\\\n",
       "\t 1 & 28 & 2696394 & 336635 & 2.28156292\\\\\n",
       "\t 1 & 29 & 2696699 & 336648 & 2.28156292\\\\\n",
       "\t ⋮ & ⋮ & ⋮ & ⋮ & ⋮\\\\\n",
       "\t 22 & 218 & 461235 & 53440 & 10.51203\\\\\n",
       "\t 22 & 219 & 461236 & 53440 & 10.51203\\\\\n",
       "\t 22 & 220 & 461237 & 53440 & 10.51203\\\\\n",
       "\t 22 & 222 & 461238 & 53440 & 10.51203\\\\\n",
       "\t 22 & 223 & 461249 & 53441 & 11.41183\\\\\n",
       "\t 22 & 224 & 461251 & 53441 & 11.41183\\\\\n",
       "\t 22 & 225 & 461254 & 53441 & 11.41183\\\\\n",
       "\t 22 & 226 & 461262 & 53442 & 12.29159\\\\\n",
       "\t 22 & 227 & 461265 & 53442 & 12.29159\\\\\n",
       "\t 22 & 228 & 461269 & 53442 & 12.29159\\\\\n",
       "\t 22 & 229 & 461276 & 53442 & 12.29159\\\\\n",
       "\t 22 & 230 & 461298 & 53442 & 12.29159\\\\\n",
       "\t 22 & 231 & 461317 & 53442 & 12.29159\\\\\n",
       "\t 22 & 232 & 461325 & 53443 & 13.23347\\\\\n",
       "\t 22 & 233 & 461327 & 53443 & 13.23347\\\\\n",
       "\t 22 & 234 & 461331 & 53444 & 14.16934\\\\\n",
       "\t 22 & 235 & 461332 & 53444 & 14.16934\\\\\n",
       "\t 22 & 236 & 461340 & 53444 & 14.16934\\\\\n",
       "\t 22 & 237 & 461343 & 53444 & 14.16934\\\\\n",
       "\t 22 & 238 & 461346 & 53444 & 14.16934\\\\\n",
       "\t 22 & 239 & 461349 & 53444 & 14.16934\\\\\n",
       "\t 22 & 242 & 461353 & 53445 & 15.06914\\\\\n",
       "\t 22 & 243 & 461358 & 53445 & 15.06914\\\\\n",
       "\t 22 & 244 & 461362 & 53445 & 15.06914\\\\\n",
       "\t 22 & 245 & 461365 & 53446 & 15.06914\\\\\n",
       "\t 22 & 246 & 461373 & 53446 & 15.06914\\\\\n",
       "\t 22 & 247 & 461379 & 53447 & 16.05612\\\\\n",
       "\t 22 & 248 & 461382 & 53447 & 16.05612\\\\\n",
       "\t 22 & 249 & 461396 & 53447 & 16.05612\\\\\n",
       "\t 22 & 250 & 461421 & 53452 & 18.05311\\\\\n",
       "\\end{tabular}\n"
      ],
      "text/markdown": [
       "\n",
       "A tibble: 4888 × 5\n",
       "\n",
       "| block_id &lt;int&gt; | asc_freq_max &lt;int&gt; | Nr_sites_all &lt;int&gt; | Nr_sites_nonmissing &lt;int&gt; | fsum &lt;dbl&gt; |\n",
       "|---|---|---|---|---|\n",
       "| 1 |  0 | 2316086 | 293700 | 0.06513011 |\n",
       "| 1 |  1 | 2577582 | 324632 | 0.22945873 |\n",
       "| 1 |  2 | 2628512 | 330347 | 0.49398769 |\n",
       "| 1 |  3 | 2649953 | 332667 | 0.73346662 |\n",
       "| 1 |  4 | 2662040 | 333924 | 0.90581142 |\n",
       "| 1 |  5 | 2670048 | 334730 | 1.11122252 |\n",
       "| 1 |  6 | 2675386 | 335231 | 1.35370752 |\n",
       "| 1 |  7 | 2679327 | 335593 | 1.53206412 |\n",
       "| 1 |  8 | 2682136 | 335813 | 1.60921842 |\n",
       "| 1 |  9 | 2683962 | 335949 | 1.67735462 |\n",
       "| 1 | 10 | 2685661 | 336060 | 1.88376752 |\n",
       "| 1 | 11 | 2687098 | 336166 | 1.88376752 |\n",
       "| 1 | 12 | 2688211 | 336234 | 1.92785572 |\n",
       "| 1 | 13 | 2689118 | 336289 | 1.97494992 |\n",
       "| 1 | 14 | 2689967 | 336343 | 1.97494992 |\n",
       "| 1 | 15 | 2690678 | 336386 | 2.01603212 |\n",
       "| 1 | 16 | 2691317 | 336417 | 2.06913832 |\n",
       "| 1 | 17 | 2691902 | 336447 | 2.20541062 |\n",
       "| 1 | 18 | 2692446 | 336469 | 2.20541062 |\n",
       "| 1 | 19 | 2692945 | 336485 | 2.20541062 |\n",
       "| 1 | 20 | 2693402 | 336506 | 2.20541062 |\n",
       "| 1 | 21 | 2693847 | 336516 | 2.20541062 |\n",
       "| 1 | 22 | 2694239 | 336528 | 2.28156292 |\n",
       "| 1 | 23 | 2694654 | 336550 | 2.28156292 |\n",
       "| 1 | 24 | 2695003 | 336561 | 2.28156292 |\n",
       "| 1 | 25 | 2695412 | 336580 | 2.28156292 |\n",
       "| 1 | 26 | 2695745 | 336595 | 2.28156292 |\n",
       "| 1 | 27 | 2696065 | 336611 | 2.28156292 |\n",
       "| 1 | 28 | 2696394 | 336635 | 2.28156292 |\n",
       "| 1 | 29 | 2696699 | 336648 | 2.28156292 |\n",
       "| ⋮ | ⋮ | ⋮ | ⋮ | ⋮ |\n",
       "| 22 | 218 | 461235 | 53440 | 10.51203 |\n",
       "| 22 | 219 | 461236 | 53440 | 10.51203 |\n",
       "| 22 | 220 | 461237 | 53440 | 10.51203 |\n",
       "| 22 | 222 | 461238 | 53440 | 10.51203 |\n",
       "| 22 | 223 | 461249 | 53441 | 11.41183 |\n",
       "| 22 | 224 | 461251 | 53441 | 11.41183 |\n",
       "| 22 | 225 | 461254 | 53441 | 11.41183 |\n",
       "| 22 | 226 | 461262 | 53442 | 12.29159 |\n",
       "| 22 | 227 | 461265 | 53442 | 12.29159 |\n",
       "| 22 | 228 | 461269 | 53442 | 12.29159 |\n",
       "| 22 | 229 | 461276 | 53442 | 12.29159 |\n",
       "| 22 | 230 | 461298 | 53442 | 12.29159 |\n",
       "| 22 | 231 | 461317 | 53442 | 12.29159 |\n",
       "| 22 | 232 | 461325 | 53443 | 13.23347 |\n",
       "| 22 | 233 | 461327 | 53443 | 13.23347 |\n",
       "| 22 | 234 | 461331 | 53444 | 14.16934 |\n",
       "| 22 | 235 | 461332 | 53444 | 14.16934 |\n",
       "| 22 | 236 | 461340 | 53444 | 14.16934 |\n",
       "| 22 | 237 | 461343 | 53444 | 14.16934 |\n",
       "| 22 | 238 | 461346 | 53444 | 14.16934 |\n",
       "| 22 | 239 | 461349 | 53444 | 14.16934 |\n",
       "| 22 | 242 | 461353 | 53445 | 15.06914 |\n",
       "| 22 | 243 | 461358 | 53445 | 15.06914 |\n",
       "| 22 | 244 | 461362 | 53445 | 15.06914 |\n",
       "| 22 | 245 | 461365 | 53446 | 15.06914 |\n",
       "| 22 | 246 | 461373 | 53446 | 15.06914 |\n",
       "| 22 | 247 | 461379 | 53447 | 16.05612 |\n",
       "| 22 | 248 | 461382 | 53447 | 16.05612 |\n",
       "| 22 | 249 | 461396 | 53447 | 16.05612 |\n",
       "| 22 | 250 | 461421 | 53452 | 18.05311 |\n",
       "\n"
      ],
      "text/plain": [
       "     block_id asc_freq_max Nr_sites_all Nr_sites_nonmissing fsum      \n",
       "1    1         0           2316086      293700              0.06513011\n",
       "2    1         1           2577582      324632              0.22945873\n",
       "3    1         2           2628512      330347              0.49398769\n",
       "4    1         3           2649953      332667              0.73346662\n",
       "5    1         4           2662040      333924              0.90581142\n",
       "6    1         5           2670048      334730              1.11122252\n",
       "7    1         6           2675386      335231              1.35370752\n",
       "8    1         7           2679327      335593              1.53206412\n",
       "9    1         8           2682136      335813              1.60921842\n",
       "10   1         9           2683962      335949              1.67735462\n",
       "11   1        10           2685661      336060              1.88376752\n",
       "12   1        11           2687098      336166              1.88376752\n",
       "13   1        12           2688211      336234              1.92785572\n",
       "14   1        13           2689118      336289              1.97494992\n",
       "15   1        14           2689967      336343              1.97494992\n",
       "16   1        15           2690678      336386              2.01603212\n",
       "17   1        16           2691317      336417              2.06913832\n",
       "18   1        17           2691902      336447              2.20541062\n",
       "19   1        18           2692446      336469              2.20541062\n",
       "20   1        19           2692945      336485              2.20541062\n",
       "21   1        20           2693402      336506              2.20541062\n",
       "22   1        21           2693847      336516              2.20541062\n",
       "23   1        22           2694239      336528              2.28156292\n",
       "24   1        23           2694654      336550              2.28156292\n",
       "25   1        24           2695003      336561              2.28156292\n",
       "26   1        25           2695412      336580              2.28156292\n",
       "27   1        26           2695745      336595              2.28156292\n",
       "28   1        27           2696065      336611              2.28156292\n",
       "29   1        28           2696394      336635              2.28156292\n",
       "30   1        29           2696699      336648              2.28156292\n",
       "⋮    ⋮        ⋮            ⋮            ⋮                   ⋮         \n",
       "4859 22       218          461235       53440               10.51203  \n",
       "4860 22       219          461236       53440               10.51203  \n",
       "4861 22       220          461237       53440               10.51203  \n",
       "4862 22       222          461238       53440               10.51203  \n",
       "4863 22       223          461249       53441               11.41183  \n",
       "4864 22       224          461251       53441               11.41183  \n",
       "4865 22       225          461254       53441               11.41183  \n",
       "4866 22       226          461262       53442               12.29159  \n",
       "4867 22       227          461265       53442               12.29159  \n",
       "4868 22       228          461269       53442               12.29159  \n",
       "4869 22       229          461276       53442               12.29159  \n",
       "4870 22       230          461298       53442               12.29159  \n",
       "4871 22       231          461317       53442               12.29159  \n",
       "4872 22       232          461325       53443               13.23347  \n",
       "4873 22       233          461327       53443               13.23347  \n",
       "4874 22       234          461331       53444               14.16934  \n",
       "4875 22       235          461332       53444               14.16934  \n",
       "4876 22       236          461340       53444               14.16934  \n",
       "4877 22       237          461343       53444               14.16934  \n",
       "4878 22       238          461346       53444               14.16934  \n",
       "4879 22       239          461349       53444               14.16934  \n",
       "4880 22       242          461353       53445               15.06914  \n",
       "4881 22       243          461358       53445               15.06914  \n",
       "4882 22       244          461362       53445               15.06914  \n",
       "4883 22       245          461365       53446               15.06914  \n",
       "4884 22       246          461373       53446               15.06914  \n",
       "4885 22       247          461379       53447               16.05612  \n",
       "4886 22       248          461382       53447               16.05612  \n",
       "4887 22       249          461396       53447               16.05612  \n",
       "4888 22       250          461421       53452               18.05311  "
      ]
     },
     "metadata": {},
     "output_type": "display_data"
    }
   ],
   "source": [
    "sfs %>% dplyr::group_by(block_id = c_across(all_of(block_col)), asc_freq = c_across(all_of(asc_col))) %>% {if (is.na(count_col)) dplyr::summarise(., Nr_sites_all=dplyr::n(), Nr_sites_nonmissing=sum(!is.na(f)), fsum=sum(f, na.rm = TRUE)) else dplyr::summarise(., Nr_sites_all=sum(c_across(all_of(count_col))), Nr_sites_nonmissing=sum((!is.na(f)) * c_across(all_of(count_col))), fsum=sum(f * c_across(all_of(count_col)), na.rm = TRUE))} %>% dplyr::reframe(asc_freq_max=asc_freq, Nr_sites_all=cumsum(Nr_sites_all), Nr_sites_nonmissing=cumsum(Nr_sites_nonmissing), fsum=cumsum(fsum))"
   ]
  },
  {
   "cell_type": "markdown",
   "metadata": {
    "vscode": {
     "languageId": "r"
    }
   },
   "source": [
    "is.na(asc_col)\n",
    "\n",
    "for (block_id in block_id_all)\n",
    "{\n",
    "    sfs_block <- sfs[sfs[, block_col]==block_id, ]\n",
    "\n",
    "    if (!is.na(count_col))\n",
    "    {\n",
    "        Nr_sites_all <- sum(sfs_block[, count_col])\n",
    "        Nr_sites_nonmissing <- sum(sfs_block[!is.na(sfs_block_asc$f), count_col])\n",
    "        fsum <- sum(sfs_block[, count_col] * sfs_block$f, na.rm = TRUE)\n",
    "    } else\n",
    "    {\n",
    "        Nr_sites_all <- nrow(sfs_block)\n",
    "        Nr_sites_nonmissing <- sum(!is.na(sfs_block$f))\n",
    "        fsum <- sum(sfs_block$f, na.rm = TRUE)\n",
    "    }\n",
    "\n",
    "    fsum_block_asc_cutoff <- base::rbind(fsum_block_asc_cutoff, list(block_id=block_id, Nr_sites_all=Nr_sites_all, Nr_sites_nonmissing=Nr_sites_nonmissing, fsum=fsum))\n",
    "}"
   ]
  },
  {
   "cell_type": "code",
   "execution_count": 68,
   "metadata": {
    "vscode": {
     "languageId": "r"
    }
   },
   "outputs": [],
   "source": [
    "# use \"all_of\" to select by external variable\n",
    "# https://tidyselect.r-lib.org/reference/faq-external-vector.html\n",
    "\n",
    "# %>% group_vars()\n",
    "# format(object.size(sfs_block_asc), units=\"GB\")"
   ]
  },
  {
   "cell_type": "code",
   "execution_count": 9,
   "metadata": {
    "vscode": {
     "languageId": "r"
    }
   },
   "outputs": [],
   "source": [
    "# Conditional pipelines\n",
    "if (is.na(asc_col))\n",
    "{\n",
    "    fsum_block_asc_cutoff <- sfs %>% dplyr::group_by(block_id = c_across(all_of(block_col))) %>% {if (is.na(count_col)) dplyr::summarise(., Nr_sites_all=dplyr::n(), Nr_sites_nonmissing=sum(!is.na(f)), fsum=sum(f, na.rm = TRUE)) else dplyr::summarise(., Nr_sites_all=sum(c_across(all_of(count_col))), Nr_sites_nonmissing=sum((!is.na(f)) * c_across(all_of(count_col))), fsum=sum(f * c_across(all_of(count_col)), na.rm = TRUE))}\n",
    "}"
   ]
  },
  {
   "cell_type": "code",
   "execution_count": 24,
   "metadata": {
    "vscode": {
     "languageId": "r"
    }
   },
   "outputs": [],
   "source": [
    "provided <- function(data, condition, call)\n",
    "{\n",
    "    if (rlang::eval_tidy(rlang::enquo(condition), data)) rlang::eval_tidy(rlang::quo_squash(rlang::quo(data %>% !!rlang::enquo(call)))) else data\n",
    "}"
   ]
  },
  {
   "cell_type": "code",
   "execution_count": 26,
   "metadata": {
    "vscode": {
     "languageId": "r"
    }
   },
   "outputs": [],
   "source": [
    "if (is.na(asc_col))\n",
    "{\n",
    "    fsum_block_asc_cutoff <- sfs %>% dplyr::group_by(block_id = c_across(all_of(block_col))) %>% provided(is.na(count_col), dplyr::summarise(Nr_sites_all=dplyr::n(), Nr_sites_nonmissing=sum(!is.na(f)), fsum=sum(f, na.rm = TRUE))) %>% provided(!is.na(count_col), dplyr::summarise(Nr_sites_all=sum(c_across(all_of(count_col))), Nr_sites_nonmissing=sum((!is.na(f)) * c_across(all_of(count_col))), fsum=sum(f * c_across(all_of(count_col)), na.rm = TRUE)))\n",
    "}"
   ]
  },
  {
   "cell_type": "code",
   "execution_count": 83,
   "metadata": {
    "vscode": {
     "languageId": "r"
    }
   },
   "outputs": [
    {
     "data": {
      "text/html": [
       "<table class=\"dataframe\">\n",
       "<caption>A tibble: 22 × 4</caption>\n",
       "<thead>\n",
       "\t<tr><th scope=col>block_id</th><th scope=col>Nr_sites_all</th><th scope=col>Nr_sites_nonmissing</th><th scope=col>fsum</th></tr>\n",
       "\t<tr><th scope=col>&lt;int&gt;</th><th scope=col>&lt;int&gt;</th><th scope=col>&lt;int&gt;</th><th scope=col>&lt;dbl&gt;</th></tr>\n",
       "</thead>\n",
       "<tbody>\n",
       "\t<tr><td> 1</td><td>2722467</td><td>338384</td><td>27.971941</td></tr>\n",
       "\t<tr><td> 2</td><td>2892819</td><td>367698</td><td> 7.438877</td></tr>\n",
       "\t<tr><td> 3</td><td>2353146</td><td>299926</td><td> 9.979959</td></tr>\n",
       "\t<tr><td> 4</td><td>2311335</td><td>279032</td><td> 5.321643</td></tr>\n",
       "\t<tr><td> 5</td><td>2135035</td><td>270604</td><td> 4.085171</td></tr>\n",
       "\t<tr><td> 6</td><td>1989200</td><td>255080</td><td>14.951904</td></tr>\n",
       "\t<tr><td> 7</td><td>1952358</td><td>235818</td><td>19.601203</td></tr>\n",
       "\t<tr><td> 8</td><td>1846440</td><td>239749</td><td>21.247497</td></tr>\n",
       "\t<tr><td> 9</td><td>1549549</td><td>179329</td><td> 8.943885</td></tr>\n",
       "\t<tr><td>10</td><td>1602350</td><td>209498</td><td> 5.149299</td></tr>\n",
       "\t<tr><td>11</td><td>1629338</td><td>206690</td><td> 7.614228</td></tr>\n",
       "\t<tr><td>12</td><td>1570690</td><td>198787</td><td> 8.584168</td></tr>\n",
       "\t<tr><td>13</td><td>1142302</td><td>142746</td><td>10.539077</td></tr>\n",
       "\t<tr><td>14</td><td>1089649</td><td>135878</td><td>25.059120</td></tr>\n",
       "\t<tr><td>15</td><td> 994146</td><td>126788</td><td>13.655313</td></tr>\n",
       "\t<tr><td>16</td><td>1142123</td><td>148936</td><td> 3.466934</td></tr>\n",
       "\t<tr><td>17</td><td> 964084</td><td>115793</td><td>14.591184</td></tr>\n",
       "\t<tr><td>18</td><td> 904022</td><td>117954</td><td> 4.589179</td></tr>\n",
       "\t<tr><td>19</td><td> 770283</td><td> 86828</td><td>11.961923</td></tr>\n",
       "\t<tr><td>20</td><td> 741527</td><td>100044</td><td> 3.855711</td></tr>\n",
       "\t<tr><td>21</td><td> 468243</td><td> 60001</td><td>22.268533</td></tr>\n",
       "\t<tr><td>22</td><td> 461421</td><td> 53452</td><td>18.053110</td></tr>\n",
       "</tbody>\n",
       "</table>\n"
      ],
      "text/latex": [
       "A tibble: 22 × 4\n",
       "\\begin{tabular}{llll}\n",
       " block\\_id & Nr\\_sites\\_all & Nr\\_sites\\_nonmissing & fsum\\\\\n",
       " <int> & <int> & <int> & <dbl>\\\\\n",
       "\\hline\n",
       "\t  1 & 2722467 & 338384 & 27.971941\\\\\n",
       "\t  2 & 2892819 & 367698 &  7.438877\\\\\n",
       "\t  3 & 2353146 & 299926 &  9.979959\\\\\n",
       "\t  4 & 2311335 & 279032 &  5.321643\\\\\n",
       "\t  5 & 2135035 & 270604 &  4.085171\\\\\n",
       "\t  6 & 1989200 & 255080 & 14.951904\\\\\n",
       "\t  7 & 1952358 & 235818 & 19.601203\\\\\n",
       "\t  8 & 1846440 & 239749 & 21.247497\\\\\n",
       "\t  9 & 1549549 & 179329 &  8.943885\\\\\n",
       "\t 10 & 1602350 & 209498 &  5.149299\\\\\n",
       "\t 11 & 1629338 & 206690 &  7.614228\\\\\n",
       "\t 12 & 1570690 & 198787 &  8.584168\\\\\n",
       "\t 13 & 1142302 & 142746 & 10.539077\\\\\n",
       "\t 14 & 1089649 & 135878 & 25.059120\\\\\n",
       "\t 15 &  994146 & 126788 & 13.655313\\\\\n",
       "\t 16 & 1142123 & 148936 &  3.466934\\\\\n",
       "\t 17 &  964084 & 115793 & 14.591184\\\\\n",
       "\t 18 &  904022 & 117954 &  4.589179\\\\\n",
       "\t 19 &  770283 &  86828 & 11.961923\\\\\n",
       "\t 20 &  741527 & 100044 &  3.855711\\\\\n",
       "\t 21 &  468243 &  60001 & 22.268533\\\\\n",
       "\t 22 &  461421 &  53452 & 18.053110\\\\\n",
       "\\end{tabular}\n"
      ],
      "text/markdown": [
       "\n",
       "A tibble: 22 × 4\n",
       "\n",
       "| block_id &lt;int&gt; | Nr_sites_all &lt;int&gt; | Nr_sites_nonmissing &lt;int&gt; | fsum &lt;dbl&gt; |\n",
       "|---|---|---|---|\n",
       "|  1 | 2722467 | 338384 | 27.971941 |\n",
       "|  2 | 2892819 | 367698 |  7.438877 |\n",
       "|  3 | 2353146 | 299926 |  9.979959 |\n",
       "|  4 | 2311335 | 279032 |  5.321643 |\n",
       "|  5 | 2135035 | 270604 |  4.085171 |\n",
       "|  6 | 1989200 | 255080 | 14.951904 |\n",
       "|  7 | 1952358 | 235818 | 19.601203 |\n",
       "|  8 | 1846440 | 239749 | 21.247497 |\n",
       "|  9 | 1549549 | 179329 |  8.943885 |\n",
       "| 10 | 1602350 | 209498 |  5.149299 |\n",
       "| 11 | 1629338 | 206690 |  7.614228 |\n",
       "| 12 | 1570690 | 198787 |  8.584168 |\n",
       "| 13 | 1142302 | 142746 | 10.539077 |\n",
       "| 14 | 1089649 | 135878 | 25.059120 |\n",
       "| 15 |  994146 | 126788 | 13.655313 |\n",
       "| 16 | 1142123 | 148936 |  3.466934 |\n",
       "| 17 |  964084 | 115793 | 14.591184 |\n",
       "| 18 |  904022 | 117954 |  4.589179 |\n",
       "| 19 |  770283 |  86828 | 11.961923 |\n",
       "| 20 |  741527 | 100044 |  3.855711 |\n",
       "| 21 |  468243 |  60001 | 22.268533 |\n",
       "| 22 |  461421 |  53452 | 18.053110 |\n",
       "\n"
      ],
      "text/plain": [
       "   block_id Nr_sites_all Nr_sites_nonmissing fsum     \n",
       "1   1       2722467      338384              27.971941\n",
       "2   2       2892819      367698               7.438877\n",
       "3   3       2353146      299926               9.979959\n",
       "4   4       2311335      279032               5.321643\n",
       "5   5       2135035      270604               4.085171\n",
       "6   6       1989200      255080              14.951904\n",
       "7   7       1952358      235818              19.601203\n",
       "8   8       1846440      239749              21.247497\n",
       "9   9       1549549      179329               8.943885\n",
       "10 10       1602350      209498               5.149299\n",
       "11 11       1629338      206690               7.614228\n",
       "12 12       1570690      198787               8.584168\n",
       "13 13       1142302      142746              10.539077\n",
       "14 14       1089649      135878              25.059120\n",
       "15 15        994146      126788              13.655313\n",
       "16 16       1142123      148936               3.466934\n",
       "17 17        964084      115793              14.591184\n",
       "18 18        904022      117954               4.589179\n",
       "19 19        770283       86828              11.961923\n",
       "20 20        741527      100044               3.855711\n",
       "21 21        468243       60001              22.268533\n",
       "22 22        461421       53452              18.053110"
      ]
     },
     "metadata": {},
     "output_type": "display_data"
    }
   ],
   "source": [
    "fsum_block_asc_cutoff"
   ]
  },
  {
   "cell_type": "code",
   "execution_count": null,
   "metadata": {
    "vscode": {
     "languageId": "r"
    }
   },
   "outputs": [],
   "source": []
  }
 ],
 "metadata": {
  "kernelspec": {
   "display_name": "R",
   "language": "R",
   "name": "ir"
  },
  "language_info": {
   "codemirror_mode": "r",
   "file_extension": ".r",
   "mimetype": "text/x-r-source",
   "name": "R",
   "pygments_lexer": "r",
   "version": "4.0.5"
  },
  "orig_nbformat": 4
 },
 "nbformat": 4,
 "nbformat_minor": 2
}
